{
  "nbformat": 4,
  "nbformat_minor": 0,
  "metadata": {
    "kernelspec": {
      "display_name": "Python 3",
      "language": "python",
      "name": "python3"
    },
    "language_info": {
      "codemirror_mode": {
        "name": "ipython",
        "version": 3
      },
      "file_extension": ".py",
      "mimetype": "text/x-python",
      "name": "python",
      "nbconvert_exporter": "python",
      "pygments_lexer": "ipython3",
      "version": "3.8.5"
    },
    "nbTranslate": {
      "displayLangs": [
        "*"
      ],
      "hotkey": "alt-t",
      "langInMainMenu": true,
      "sourceLang": "en",
      "targetLang": "fr",
      "useGoogleTranslate": true
    },
    "colab": {
      "name": "data_processing.ipynb",
      "provenance": [],
      "collapsed_sections": []
    }
  },
  "cells": [
    {
      "cell_type": "markdown",
      "metadata": {
        "id": "ix223VbbMeXs"
      },
      "source": [
        "# Cleaning scraped data"
      ]
    },
    {
      "cell_type": "markdown",
      "metadata": {
        "id": "qYv9yVFyMeXz"
      },
      "source": [
        "Import modules:"
      ]
    },
    {
      "cell_type": "code",
      "metadata": {
        "id": "7jtxw71lMeX0"
      },
      "source": [
        "import pandas as pd\n",
        "import numpy as np\n",
        "import plotly.express as px"
      ],
      "execution_count": 1,
      "outputs": []
    },
    {
      "cell_type": "markdown",
      "metadata": {
        "id": "rLNXzLauMeX1"
      },
      "source": [
        "Data load and show first 5 rows:"
      ]
    },
    {
      "cell_type": "code",
      "metadata": {
        "colab": {
          "base_uri": "https://localhost:8080/",
          "height": 513
        },
        "id": "exLFSostMeX1",
        "outputId": "1787cce1-aa5a-4ceb-94ba-36df66a1fa90"
      },
      "source": [
        "raw_df = pd.read_csv(r\"merged_golf.csv\",\n",
        "                     index_col =0,low_memory=False)\n",
        "raw_df.head(n= 5)"
      ],
      "execution_count": 3,
      "outputs": [
        {
          "output_type": "execute_result",
          "data": {
            "text/html": [
              "<div>\n",
              "<style scoped>\n",
              "    .dataframe tbody tr th:only-of-type {\n",
              "        vertical-align: middle;\n",
              "    }\n",
              "\n",
              "    .dataframe tbody tr th {\n",
              "        vertical-align: top;\n",
              "    }\n",
              "\n",
              "    .dataframe thead th {\n",
              "        text-align: right;\n",
              "    }\n",
              "</style>\n",
              "<table border=\"1\" class=\"dataframe\">\n",
              "  <thead>\n",
              "    <tr style=\"text-align: right;\">\n",
              "      <th></th>\n",
              "      <th>Unnamed: 0.1</th>\n",
              "      <th>ID</th>\n",
              "      <th>Price</th>\n",
              "      <th>Predict_Low</th>\n",
              "      <th>Predict_High</th>\n",
              "      <th>Location</th>\n",
              "      <th>Oferta od</th>\n",
              "      <th>Kategoria</th>\n",
              "      <th>Marka pojazdu</th>\n",
              "      <th>Model pojazdu</th>\n",
              "      <th>Generacja</th>\n",
              "      <th>Rok produkcji</th>\n",
              "      <th>Przebieg</th>\n",
              "      <th>Pojemność skokowa</th>\n",
              "      <th>Rodzaj paliwa</th>\n",
              "      <th>Moc</th>\n",
              "      <th>Skrzynia biegów</th>\n",
              "      <th>Liczba miejsc</th>\n",
              "      <th>Kolor</th>\n",
              "      <th>Możliwość finansowania</th>\n",
              "      <th>Faktura VAT</th>\n",
              "      <th>Kraj pochodzenia</th>\n",
              "      <th>Pierwsza rejestracja</th>\n",
              "      <th>Zarejestrowany w Polsce</th>\n",
              "      <th>Pierwszy właściciel</th>\n",
              "      <th>Bezwypadkowy</th>\n",
              "      <th>Serwisowany w ASO</th>\n",
              "      <th>Stan</th>\n",
              "      <th>Liczba drzwi</th>\n",
              "      <th>VAT marża</th>\n",
              "      <th>Numer rejestracyjny pojazdu</th>\n",
              "      <th>Wersja</th>\n",
              "      <th>Typ</th>\n",
              "      <th>Metalik</th>\n",
              "      <th>Leasing</th>\n",
              "      <th>Napęd</th>\n",
              "      <th>Okres gwarancji producenta</th>\n",
              "      <th>lub do (przebieg km)</th>\n",
              "      <th>Perłowy</th>\n",
              "      <th>ABS</th>\n",
              "      <th>...</th>\n",
              "      <th>Elektrochromatyczne lusterko wsteczne</th>\n",
              "      <th>Gniazdo AUX</th>\n",
              "      <th>Kamera cofania</th>\n",
              "      <th>Podgrzewane lusterka boczne</th>\n",
              "      <th>System Start-Stop</th>\n",
              "      <th>CD</th>\n",
              "      <th>Elektrycznie ustawiane lusterka</th>\n",
              "      <th>Alarm</th>\n",
              "      <th>Asystent parkowania</th>\n",
              "      <th>Czujnik deszczu</th>\n",
              "      <th>Czujniki parkowania tylne</th>\n",
              "      <th>Gniazdo SD</th>\n",
              "      <th>Nawigacja GPS</th>\n",
              "      <th>Podgrzewane przednie siedzenia</th>\n",
              "      <th>Poduszki boczne tylne</th>\n",
              "      <th>Światła do jazdy dziennej</th>\n",
              "      <th>Alufelgi</th>\n",
              "      <th>Asystent pasa ruchu</th>\n",
              "      <th>Czujnik zmierzchu</th>\n",
              "      <th>Elektrochromatyczne lusterka boczne</th>\n",
              "      <th>Podgrzewana przednia szyba</th>\n",
              "      <th>Przyciemniane szyby</th>\n",
              "      <th>Tapicerka skórzana</th>\n",
              "      <th>Elektrycznie ustawiane fotele</th>\n",
              "      <th>Regulowane zawieszenie</th>\n",
              "      <th>Kurtyny powietrzne</th>\n",
              "      <th>Tempomat aktywny</th>\n",
              "      <th>Dach panoramiczny</th>\n",
              "      <th>Ogranicznik prędkości</th>\n",
              "      <th>Czujnik martwego pola</th>\n",
              "      <th>HUD (wyświetlacz przezierny)</th>\n",
              "      <th>Podgrzewane tylne siedzenia</th>\n",
              "      <th>Odtwarzacz DVD</th>\n",
              "      <th>Ogrzewanie postojowe</th>\n",
              "      <th>Radio niefabryczne</th>\n",
              "      <th>Światła Xenonowe</th>\n",
              "      <th>Hak</th>\n",
              "      <th>Klimatyzacja czterostrefowa</th>\n",
              "      <th>Zmieniarka CD</th>\n",
              "      <th>Tuner TV</th>\n",
              "    </tr>\n",
              "  </thead>\n",
              "  <tbody>\n",
              "    <tr>\n",
              "      <th>0</th>\n",
              "      <td>0</td>\n",
              "      <td>6.077535e+09</td>\n",
              "      <td>11900.0</td>\n",
              "      <td>11 250</td>\n",
              "      <td>13 100</td>\n",
              "      <td>NaN</td>\n",
              "      <td>Osoby prywatnej</td>\n",
              "      <td>Osobowe</td>\n",
              "      <td>Volkswagen</td>\n",
              "      <td>Golf</td>\n",
              "      <td>V (2003-2009)</td>\n",
              "      <td>2006.0</td>\n",
              "      <td>210 000 km</td>\n",
              "      <td>1 900 cm3</td>\n",
              "      <td>Diesel</td>\n",
              "      <td>90 KM</td>\n",
              "      <td>NaN</td>\n",
              "      <td>NaN</td>\n",
              "      <td>NaN</td>\n",
              "      <td>NaN</td>\n",
              "      <td>NaN</td>\n",
              "      <td>NaN</td>\n",
              "      <td>NaN</td>\n",
              "      <td>NaN</td>\n",
              "      <td>NaN</td>\n",
              "      <td>NaN</td>\n",
              "      <td>NaN</td>\n",
              "      <td>NaN</td>\n",
              "      <td>NaN</td>\n",
              "      <td>NaN</td>\n",
              "      <td>NaN</td>\n",
              "      <td>NaN</td>\n",
              "      <td>NaN</td>\n",
              "      <td>NaN</td>\n",
              "      <td>NaN</td>\n",
              "      <td>NaN</td>\n",
              "      <td>NaN</td>\n",
              "      <td>NaN</td>\n",
              "      <td>NaN</td>\n",
              "      <td>1.0</td>\n",
              "      <td>...</td>\n",
              "      <td>NaN</td>\n",
              "      <td>NaN</td>\n",
              "      <td>NaN</td>\n",
              "      <td>1.0</td>\n",
              "      <td>NaN</td>\n",
              "      <td>NaN</td>\n",
              "      <td>NaN</td>\n",
              "      <td>NaN</td>\n",
              "      <td>NaN</td>\n",
              "      <td>NaN</td>\n",
              "      <td>NaN</td>\n",
              "      <td>NaN</td>\n",
              "      <td>NaN</td>\n",
              "      <td>NaN</td>\n",
              "      <td>NaN</td>\n",
              "      <td>NaN</td>\n",
              "      <td>NaN</td>\n",
              "      <td>NaN</td>\n",
              "      <td>NaN</td>\n",
              "      <td>NaN</td>\n",
              "      <td>NaN</td>\n",
              "      <td>NaN</td>\n",
              "      <td>NaN</td>\n",
              "      <td>NaN</td>\n",
              "      <td>NaN</td>\n",
              "      <td>NaN</td>\n",
              "      <td>NaN</td>\n",
              "      <td>NaN</td>\n",
              "      <td>NaN</td>\n",
              "      <td>NaN</td>\n",
              "      <td>NaN</td>\n",
              "      <td>NaN</td>\n",
              "      <td>NaN</td>\n",
              "      <td>NaN</td>\n",
              "      <td>NaN</td>\n",
              "      <td>NaN</td>\n",
              "      <td>NaN</td>\n",
              "      <td>NaN</td>\n",
              "      <td>NaN</td>\n",
              "      <td>NaN</td>\n",
              "    </tr>\n",
              "    <tr>\n",
              "      <th>1</th>\n",
              "      <td>1</td>\n",
              "      <td>6.070865e+09</td>\n",
              "      <td>14500.0</td>\n",
              "      <td>11 450</td>\n",
              "      <td>13 300</td>\n",
              "      <td>NaN</td>\n",
              "      <td>Osoby prywatnej</td>\n",
              "      <td>Osobowe</td>\n",
              "      <td>Volkswagen</td>\n",
              "      <td>Golf</td>\n",
              "      <td>V (2003-2009)</td>\n",
              "      <td>2006.0</td>\n",
              "      <td>200 000 km</td>\n",
              "      <td>1 390 cm3</td>\n",
              "      <td>Benzyna+LPG</td>\n",
              "      <td>75 KM</td>\n",
              "      <td>NaN</td>\n",
              "      <td>5.0</td>\n",
              "      <td>Czarny</td>\n",
              "      <td>NaN</td>\n",
              "      <td>NaN</td>\n",
              "      <td>Niemcy</td>\n",
              "      <td>14/11/2006</td>\n",
              "      <td>Tak</td>\n",
              "      <td>NaN</td>\n",
              "      <td>Tak</td>\n",
              "      <td>NaN</td>\n",
              "      <td>Używane</td>\n",
              "      <td>3.0</td>\n",
              "      <td>NaN</td>\n",
              "      <td>OOL 51R5</td>\n",
              "      <td>V (2003-2009)</td>\n",
              "      <td>NaN</td>\n",
              "      <td>Tak</td>\n",
              "      <td>NaN</td>\n",
              "      <td>NaN</td>\n",
              "      <td>NaN</td>\n",
              "      <td>NaN</td>\n",
              "      <td>NaN</td>\n",
              "      <td>1.0</td>\n",
              "      <td>...</td>\n",
              "      <td>NaN</td>\n",
              "      <td>1.0</td>\n",
              "      <td>NaN</td>\n",
              "      <td>NaN</td>\n",
              "      <td>NaN</td>\n",
              "      <td>NaN</td>\n",
              "      <td>NaN</td>\n",
              "      <td>NaN</td>\n",
              "      <td>NaN</td>\n",
              "      <td>NaN</td>\n",
              "      <td>1.0</td>\n",
              "      <td>NaN</td>\n",
              "      <td>NaN</td>\n",
              "      <td>NaN</td>\n",
              "      <td>NaN</td>\n",
              "      <td>NaN</td>\n",
              "      <td>NaN</td>\n",
              "      <td>NaN</td>\n",
              "      <td>NaN</td>\n",
              "      <td>NaN</td>\n",
              "      <td>NaN</td>\n",
              "      <td>NaN</td>\n",
              "      <td>NaN</td>\n",
              "      <td>NaN</td>\n",
              "      <td>NaN</td>\n",
              "      <td>NaN</td>\n",
              "      <td>NaN</td>\n",
              "      <td>NaN</td>\n",
              "      <td>NaN</td>\n",
              "      <td>NaN</td>\n",
              "      <td>NaN</td>\n",
              "      <td>NaN</td>\n",
              "      <td>NaN</td>\n",
              "      <td>NaN</td>\n",
              "      <td>NaN</td>\n",
              "      <td>NaN</td>\n",
              "      <td>NaN</td>\n",
              "      <td>NaN</td>\n",
              "      <td>NaN</td>\n",
              "      <td>NaN</td>\n",
              "    </tr>\n",
              "    <tr>\n",
              "      <th>2</th>\n",
              "      <td>2</td>\n",
              "      <td>6.076245e+09</td>\n",
              "      <td>81900.0</td>\n",
              "      <td>NaN</td>\n",
              "      <td>NaN</td>\n",
              "      <td>Niciarniana 51/53 - 92-320 Łódź, Łódzkie (Polska)</td>\n",
              "      <td>Firmy</td>\n",
              "      <td>Osobowe</td>\n",
              "      <td>Volkswagen</td>\n",
              "      <td>Golf</td>\n",
              "      <td>VIII (2020-)</td>\n",
              "      <td>2020.0</td>\n",
              "      <td>1 km</td>\n",
              "      <td>999 cm3</td>\n",
              "      <td>Benzyna</td>\n",
              "      <td>110 KM</td>\n",
              "      <td>Manualna</td>\n",
              "      <td>5.0</td>\n",
              "      <td>Biały</td>\n",
              "      <td>Tak</td>\n",
              "      <td>Tak</td>\n",
              "      <td>NaN</td>\n",
              "      <td>NaN</td>\n",
              "      <td>NaN</td>\n",
              "      <td>NaN</td>\n",
              "      <td>Tak</td>\n",
              "      <td>NaN</td>\n",
              "      <td>Nowe</td>\n",
              "      <td>5.0</td>\n",
              "      <td>NaN</td>\n",
              "      <td>NaN</td>\n",
              "      <td>NaN</td>\n",
              "      <td>Kompakt</td>\n",
              "      <td>NaN</td>\n",
              "      <td>NaN</td>\n",
              "      <td>NaN</td>\n",
              "      <td>NaN</td>\n",
              "      <td>NaN</td>\n",
              "      <td>NaN</td>\n",
              "      <td>1.0</td>\n",
              "      <td>...</td>\n",
              "      <td>NaN</td>\n",
              "      <td>NaN</td>\n",
              "      <td>NaN</td>\n",
              "      <td>NaN</td>\n",
              "      <td>NaN</td>\n",
              "      <td>NaN</td>\n",
              "      <td>1.0</td>\n",
              "      <td>1.0</td>\n",
              "      <td>NaN</td>\n",
              "      <td>NaN</td>\n",
              "      <td>NaN</td>\n",
              "      <td>NaN</td>\n",
              "      <td>NaN</td>\n",
              "      <td>NaN</td>\n",
              "      <td>NaN</td>\n",
              "      <td>1.0</td>\n",
              "      <td>NaN</td>\n",
              "      <td>1.0</td>\n",
              "      <td>1.0</td>\n",
              "      <td>NaN</td>\n",
              "      <td>NaN</td>\n",
              "      <td>NaN</td>\n",
              "      <td>NaN</td>\n",
              "      <td>NaN</td>\n",
              "      <td>NaN</td>\n",
              "      <td>1.0</td>\n",
              "      <td>NaN</td>\n",
              "      <td>NaN</td>\n",
              "      <td>NaN</td>\n",
              "      <td>NaN</td>\n",
              "      <td>NaN</td>\n",
              "      <td>NaN</td>\n",
              "      <td>NaN</td>\n",
              "      <td>NaN</td>\n",
              "      <td>NaN</td>\n",
              "      <td>NaN</td>\n",
              "      <td>NaN</td>\n",
              "      <td>NaN</td>\n",
              "      <td>NaN</td>\n",
              "      <td>NaN</td>\n",
              "    </tr>\n",
              "    <tr>\n",
              "      <th>3</th>\n",
              "      <td>3</td>\n",
              "      <td>6.072484e+09</td>\n",
              "      <td>68900.0</td>\n",
              "      <td>NaN</td>\n",
              "      <td>NaN</td>\n",
              "      <td>Niciarniana 51/53 - 92-320 Łódź, Łódzkie (Polska)</td>\n",
              "      <td>Firmy</td>\n",
              "      <td>Osobowe</td>\n",
              "      <td>Volkswagen</td>\n",
              "      <td>Golf</td>\n",
              "      <td>VIII (2020-)</td>\n",
              "      <td>2020.0</td>\n",
              "      <td>1 km</td>\n",
              "      <td>999 cm3</td>\n",
              "      <td>Benzyna</td>\n",
              "      <td>86 KM</td>\n",
              "      <td>NaN</td>\n",
              "      <td>5.0</td>\n",
              "      <td>Szary</td>\n",
              "      <td>Tak</td>\n",
              "      <td>Tak</td>\n",
              "      <td>NaN</td>\n",
              "      <td>NaN</td>\n",
              "      <td>NaN</td>\n",
              "      <td>NaN</td>\n",
              "      <td>Tak</td>\n",
              "      <td>NaN</td>\n",
              "      <td>Nowe</td>\n",
              "      <td>5.0</td>\n",
              "      <td>NaN</td>\n",
              "      <td>NaN</td>\n",
              "      <td>VII 1.0 TSI BMT Trendline</td>\n",
              "      <td>Kompakt</td>\n",
              "      <td>NaN</td>\n",
              "      <td>NaN</td>\n",
              "      <td>NaN</td>\n",
              "      <td>NaN</td>\n",
              "      <td>NaN</td>\n",
              "      <td>NaN</td>\n",
              "      <td>1.0</td>\n",
              "      <td>...</td>\n",
              "      <td>NaN</td>\n",
              "      <td>NaN</td>\n",
              "      <td>NaN</td>\n",
              "      <td>NaN</td>\n",
              "      <td>NaN</td>\n",
              "      <td>NaN</td>\n",
              "      <td>1.0</td>\n",
              "      <td>1.0</td>\n",
              "      <td>NaN</td>\n",
              "      <td>NaN</td>\n",
              "      <td>NaN</td>\n",
              "      <td>NaN</td>\n",
              "      <td>NaN</td>\n",
              "      <td>NaN</td>\n",
              "      <td>NaN</td>\n",
              "      <td>1.0</td>\n",
              "      <td>NaN</td>\n",
              "      <td>NaN</td>\n",
              "      <td>NaN</td>\n",
              "      <td>NaN</td>\n",
              "      <td>NaN</td>\n",
              "      <td>NaN</td>\n",
              "      <td>NaN</td>\n",
              "      <td>NaN</td>\n",
              "      <td>NaN</td>\n",
              "      <td>NaN</td>\n",
              "      <td>NaN</td>\n",
              "      <td>NaN</td>\n",
              "      <td>NaN</td>\n",
              "      <td>NaN</td>\n",
              "      <td>NaN</td>\n",
              "      <td>NaN</td>\n",
              "      <td>NaN</td>\n",
              "      <td>NaN</td>\n",
              "      <td>NaN</td>\n",
              "      <td>NaN</td>\n",
              "      <td>NaN</td>\n",
              "      <td>NaN</td>\n",
              "      <td>NaN</td>\n",
              "      <td>NaN</td>\n",
              "    </tr>\n",
              "    <tr>\n",
              "      <th>4</th>\n",
              "      <td>4</td>\n",
              "      <td>6.072485e+09</td>\n",
              "      <td>69500.0</td>\n",
              "      <td>NaN</td>\n",
              "      <td>NaN</td>\n",
              "      <td>Niciarniana 51/53 - 92-320 Łódź, Łódzkie (Polska)</td>\n",
              "      <td>Firmy</td>\n",
              "      <td>Osobowe</td>\n",
              "      <td>Volkswagen</td>\n",
              "      <td>Golf</td>\n",
              "      <td>VIII (2020-)</td>\n",
              "      <td>2020.0</td>\n",
              "      <td>1 km</td>\n",
              "      <td>999 cm3</td>\n",
              "      <td>Benzyna</td>\n",
              "      <td>86 KM</td>\n",
              "      <td>NaN</td>\n",
              "      <td>5.0</td>\n",
              "      <td>Biały</td>\n",
              "      <td>Tak</td>\n",
              "      <td>Tak</td>\n",
              "      <td>NaN</td>\n",
              "      <td>NaN</td>\n",
              "      <td>NaN</td>\n",
              "      <td>NaN</td>\n",
              "      <td>Tak</td>\n",
              "      <td>NaN</td>\n",
              "      <td>Nowe</td>\n",
              "      <td>5.0</td>\n",
              "      <td>NaN</td>\n",
              "      <td>NaN</td>\n",
              "      <td>VII 1.0 TSI BMT Trendline</td>\n",
              "      <td>Kompakt</td>\n",
              "      <td>NaN</td>\n",
              "      <td>NaN</td>\n",
              "      <td>NaN</td>\n",
              "      <td>NaN</td>\n",
              "      <td>NaN</td>\n",
              "      <td>NaN</td>\n",
              "      <td>1.0</td>\n",
              "      <td>...</td>\n",
              "      <td>NaN</td>\n",
              "      <td>NaN</td>\n",
              "      <td>NaN</td>\n",
              "      <td>NaN</td>\n",
              "      <td>NaN</td>\n",
              "      <td>NaN</td>\n",
              "      <td>1.0</td>\n",
              "      <td>1.0</td>\n",
              "      <td>NaN</td>\n",
              "      <td>NaN</td>\n",
              "      <td>NaN</td>\n",
              "      <td>NaN</td>\n",
              "      <td>NaN</td>\n",
              "      <td>NaN</td>\n",
              "      <td>NaN</td>\n",
              "      <td>NaN</td>\n",
              "      <td>NaN</td>\n",
              "      <td>NaN</td>\n",
              "      <td>NaN</td>\n",
              "      <td>NaN</td>\n",
              "      <td>NaN</td>\n",
              "      <td>NaN</td>\n",
              "      <td>NaN</td>\n",
              "      <td>NaN</td>\n",
              "      <td>NaN</td>\n",
              "      <td>1.0</td>\n",
              "      <td>NaN</td>\n",
              "      <td>NaN</td>\n",
              "      <td>NaN</td>\n",
              "      <td>NaN</td>\n",
              "      <td>NaN</td>\n",
              "      <td>NaN</td>\n",
              "      <td>NaN</td>\n",
              "      <td>NaN</td>\n",
              "      <td>NaN</td>\n",
              "      <td>NaN</td>\n",
              "      <td>NaN</td>\n",
              "      <td>NaN</td>\n",
              "      <td>NaN</td>\n",
              "      <td>NaN</td>\n",
              "    </tr>\n",
              "  </tbody>\n",
              "</table>\n",
              "<p>5 rows × 109 columns</p>\n",
              "</div>"
            ],
            "text/plain": [
              "   Unnamed: 0.1            ID  ...  Zmieniarka CD Tuner TV\n",
              "0             0  6.077535e+09  ...            NaN      NaN\n",
              "1             1  6.070865e+09  ...            NaN      NaN\n",
              "2             2  6.076245e+09  ...            NaN      NaN\n",
              "3             3  6.072484e+09  ...            NaN      NaN\n",
              "4             4  6.072485e+09  ...            NaN      NaN\n",
              "\n",
              "[5 rows x 109 columns]"
            ]
          },
          "metadata": {
            "tags": []
          },
          "execution_count": 3
        }
      ]
    },
    {
      "cell_type": "markdown",
      "metadata": {
        "id": "euQQi_VDMeX2"
      },
      "source": [
        "# Processing of each column:"
      ]
    },
    {
      "cell_type": "markdown",
      "metadata": {
        "id": "-xiWkx8_MeX2"
      },
      "source": [
        "Create copy of dataframe:"
      ]
    },
    {
      "cell_type": "code",
      "metadata": {
        "id": "wJH8PHCZMeX3"
      },
      "source": [
        "clear_df = raw_df.copy()"
      ],
      "execution_count": 4,
      "outputs": []
    },
    {
      "cell_type": "markdown",
      "metadata": {
        "id": "JaOZBIcrMeX3"
      },
      "source": [
        "Remove ID column:"
      ]
    },
    {
      "cell_type": "code",
      "metadata": {
        "id": "zqY-PTVkMeX3"
      },
      "source": [
        "clear_df = clear_df.drop(columns = 'ID')"
      ],
      "execution_count": 5,
      "outputs": []
    },
    {
      "cell_type": "markdown",
      "metadata": {
        "id": "KLFDLAReMeX3"
      },
      "source": [
        "Remove unamed column:"
      ]
    },
    {
      "cell_type": "code",
      "metadata": {
        "colab": {
          "base_uri": "https://localhost:8080/",
          "height": 176
        },
        "id": "-B0PIeirMeX4",
        "outputId": "d7dff699-5562-4bab-ecf8-962cb4ea95e7"
      },
      "source": [
        "clear_df = clear_df.drop(columns = 'Unnamed: 0.1')\n",
        "clear_df.head(1)"
      ],
      "execution_count": 6,
      "outputs": [
        {
          "output_type": "execute_result",
          "data": {
            "text/html": [
              "<div>\n",
              "<style scoped>\n",
              "    .dataframe tbody tr th:only-of-type {\n",
              "        vertical-align: middle;\n",
              "    }\n",
              "\n",
              "    .dataframe tbody tr th {\n",
              "        vertical-align: top;\n",
              "    }\n",
              "\n",
              "    .dataframe thead th {\n",
              "        text-align: right;\n",
              "    }\n",
              "</style>\n",
              "<table border=\"1\" class=\"dataframe\">\n",
              "  <thead>\n",
              "    <tr style=\"text-align: right;\">\n",
              "      <th></th>\n",
              "      <th>Price</th>\n",
              "      <th>Predict_Low</th>\n",
              "      <th>Predict_High</th>\n",
              "      <th>Location</th>\n",
              "      <th>Oferta od</th>\n",
              "      <th>Kategoria</th>\n",
              "      <th>Marka pojazdu</th>\n",
              "      <th>Model pojazdu</th>\n",
              "      <th>Generacja</th>\n",
              "      <th>Rok produkcji</th>\n",
              "      <th>Przebieg</th>\n",
              "      <th>Pojemność skokowa</th>\n",
              "      <th>Rodzaj paliwa</th>\n",
              "      <th>Moc</th>\n",
              "      <th>Skrzynia biegów</th>\n",
              "      <th>Liczba miejsc</th>\n",
              "      <th>Kolor</th>\n",
              "      <th>Możliwość finansowania</th>\n",
              "      <th>Faktura VAT</th>\n",
              "      <th>Kraj pochodzenia</th>\n",
              "      <th>Pierwsza rejestracja</th>\n",
              "      <th>Zarejestrowany w Polsce</th>\n",
              "      <th>Pierwszy właściciel</th>\n",
              "      <th>Bezwypadkowy</th>\n",
              "      <th>Serwisowany w ASO</th>\n",
              "      <th>Stan</th>\n",
              "      <th>Liczba drzwi</th>\n",
              "      <th>VAT marża</th>\n",
              "      <th>Numer rejestracyjny pojazdu</th>\n",
              "      <th>Wersja</th>\n",
              "      <th>Typ</th>\n",
              "      <th>Metalik</th>\n",
              "      <th>Leasing</th>\n",
              "      <th>Napęd</th>\n",
              "      <th>Okres gwarancji producenta</th>\n",
              "      <th>lub do (przebieg km)</th>\n",
              "      <th>Perłowy</th>\n",
              "      <th>ABS</th>\n",
              "      <th>Elektryczne szyby przednie</th>\n",
              "      <th>Poduszka powietrzna kierowcy</th>\n",
              "      <th>...</th>\n",
              "      <th>Elektrochromatyczne lusterko wsteczne</th>\n",
              "      <th>Gniazdo AUX</th>\n",
              "      <th>Kamera cofania</th>\n",
              "      <th>Podgrzewane lusterka boczne</th>\n",
              "      <th>System Start-Stop</th>\n",
              "      <th>CD</th>\n",
              "      <th>Elektrycznie ustawiane lusterka</th>\n",
              "      <th>Alarm</th>\n",
              "      <th>Asystent parkowania</th>\n",
              "      <th>Czujnik deszczu</th>\n",
              "      <th>Czujniki parkowania tylne</th>\n",
              "      <th>Gniazdo SD</th>\n",
              "      <th>Nawigacja GPS</th>\n",
              "      <th>Podgrzewane przednie siedzenia</th>\n",
              "      <th>Poduszki boczne tylne</th>\n",
              "      <th>Światła do jazdy dziennej</th>\n",
              "      <th>Alufelgi</th>\n",
              "      <th>Asystent pasa ruchu</th>\n",
              "      <th>Czujnik zmierzchu</th>\n",
              "      <th>Elektrochromatyczne lusterka boczne</th>\n",
              "      <th>Podgrzewana przednia szyba</th>\n",
              "      <th>Przyciemniane szyby</th>\n",
              "      <th>Tapicerka skórzana</th>\n",
              "      <th>Elektrycznie ustawiane fotele</th>\n",
              "      <th>Regulowane zawieszenie</th>\n",
              "      <th>Kurtyny powietrzne</th>\n",
              "      <th>Tempomat aktywny</th>\n",
              "      <th>Dach panoramiczny</th>\n",
              "      <th>Ogranicznik prędkości</th>\n",
              "      <th>Czujnik martwego pola</th>\n",
              "      <th>HUD (wyświetlacz przezierny)</th>\n",
              "      <th>Podgrzewane tylne siedzenia</th>\n",
              "      <th>Odtwarzacz DVD</th>\n",
              "      <th>Ogrzewanie postojowe</th>\n",
              "      <th>Radio niefabryczne</th>\n",
              "      <th>Światła Xenonowe</th>\n",
              "      <th>Hak</th>\n",
              "      <th>Klimatyzacja czterostrefowa</th>\n",
              "      <th>Zmieniarka CD</th>\n",
              "      <th>Tuner TV</th>\n",
              "    </tr>\n",
              "  </thead>\n",
              "  <tbody>\n",
              "    <tr>\n",
              "      <th>0</th>\n",
              "      <td>11900.0</td>\n",
              "      <td>11 250</td>\n",
              "      <td>13 100</td>\n",
              "      <td>NaN</td>\n",
              "      <td>Osoby prywatnej</td>\n",
              "      <td>Osobowe</td>\n",
              "      <td>Volkswagen</td>\n",
              "      <td>Golf</td>\n",
              "      <td>V (2003-2009)</td>\n",
              "      <td>2006.0</td>\n",
              "      <td>210 000 km</td>\n",
              "      <td>1 900 cm3</td>\n",
              "      <td>Diesel</td>\n",
              "      <td>90 KM</td>\n",
              "      <td>NaN</td>\n",
              "      <td>NaN</td>\n",
              "      <td>NaN</td>\n",
              "      <td>NaN</td>\n",
              "      <td>NaN</td>\n",
              "      <td>NaN</td>\n",
              "      <td>NaN</td>\n",
              "      <td>NaN</td>\n",
              "      <td>NaN</td>\n",
              "      <td>NaN</td>\n",
              "      <td>NaN</td>\n",
              "      <td>NaN</td>\n",
              "      <td>NaN</td>\n",
              "      <td>NaN</td>\n",
              "      <td>NaN</td>\n",
              "      <td>NaN</td>\n",
              "      <td>NaN</td>\n",
              "      <td>NaN</td>\n",
              "      <td>NaN</td>\n",
              "      <td>NaN</td>\n",
              "      <td>NaN</td>\n",
              "      <td>NaN</td>\n",
              "      <td>NaN</td>\n",
              "      <td>1.0</td>\n",
              "      <td>1.0</td>\n",
              "      <td>1.0</td>\n",
              "      <td>...</td>\n",
              "      <td>NaN</td>\n",
              "      <td>NaN</td>\n",
              "      <td>NaN</td>\n",
              "      <td>1.0</td>\n",
              "      <td>NaN</td>\n",
              "      <td>NaN</td>\n",
              "      <td>NaN</td>\n",
              "      <td>NaN</td>\n",
              "      <td>NaN</td>\n",
              "      <td>NaN</td>\n",
              "      <td>NaN</td>\n",
              "      <td>NaN</td>\n",
              "      <td>NaN</td>\n",
              "      <td>NaN</td>\n",
              "      <td>NaN</td>\n",
              "      <td>NaN</td>\n",
              "      <td>NaN</td>\n",
              "      <td>NaN</td>\n",
              "      <td>NaN</td>\n",
              "      <td>NaN</td>\n",
              "      <td>NaN</td>\n",
              "      <td>NaN</td>\n",
              "      <td>NaN</td>\n",
              "      <td>NaN</td>\n",
              "      <td>NaN</td>\n",
              "      <td>NaN</td>\n",
              "      <td>NaN</td>\n",
              "      <td>NaN</td>\n",
              "      <td>NaN</td>\n",
              "      <td>NaN</td>\n",
              "      <td>NaN</td>\n",
              "      <td>NaN</td>\n",
              "      <td>NaN</td>\n",
              "      <td>NaN</td>\n",
              "      <td>NaN</td>\n",
              "      <td>NaN</td>\n",
              "      <td>NaN</td>\n",
              "      <td>NaN</td>\n",
              "      <td>NaN</td>\n",
              "      <td>NaN</td>\n",
              "    </tr>\n",
              "  </tbody>\n",
              "</table>\n",
              "<p>1 rows × 107 columns</p>\n",
              "</div>"
            ],
            "text/plain": [
              "     Price Predict_Low  ... Zmieniarka CD Tuner TV\n",
              "0  11900.0      11 250  ...           NaN      NaN\n",
              "\n",
              "[1 rows x 107 columns]"
            ]
          },
          "metadata": {
            "tags": []
          },
          "execution_count": 6
        }
      ]
    },
    {
      "cell_type": "markdown",
      "metadata": {
        "id": "R0lXoX4GMeX4"
      },
      "source": [
        "Drop duplicates:"
      ]
    },
    {
      "cell_type": "code",
      "metadata": {
        "colab": {
          "base_uri": "https://localhost:8080/"
        },
        "id": "RnM7ZtkRMeX4",
        "outputId": "be882cbe-f7a7-4cbb-9207-fadfac55acc5"
      },
      "source": [
        "print(f'Numbers of rows before: {len(clear_df)}')\r\n",
        "clear_df = clear_df.drop_duplicates()\r\n",
        "print(f'Numbers of rows after: {len(clear_df)}')"
      ],
      "execution_count": 15,
      "outputs": [
        {
          "output_type": "stream",
          "text": [
            "Numbers of rows before: 9473\n",
            "Numbers of rows after: 9105\n"
          ],
          "name": "stdout"
        }
      ]
    },
    {
      "cell_type": "markdown",
      "metadata": {
        "id": "SU9ZzTMzMeX4"
      },
      "source": [
        "Count empty rows in price column:"
      ]
    },
    {
      "cell_type": "code",
      "metadata": {
        "colab": {
          "base_uri": "https://localhost:8080/"
        },
        "id": "15Y3PFWSMeX5",
        "outputId": "3f6b691f-7810-4220-d448-9c6e6abc5f5c"
      },
      "source": [
        "print('Empty rows with Price: ' + str(clear_df[clear_df['Price'].isnull()].sum(axis = 1).count()))"
      ],
      "execution_count": 17,
      "outputs": [
        {
          "output_type": "stream",
          "text": [
            "Empty rows with Price: 4589\n"
          ],
          "name": "stdout"
        }
      ]
    },
    {
      "cell_type": "markdown",
      "metadata": {
        "id": "bC_VCYkkMeX5"
      },
      "source": [
        "Remove rows where all values are Nan:"
      ]
    },
    {
      "cell_type": "code",
      "metadata": {
        "colab": {
          "base_uri": "https://localhost:8080/"
        },
        "id": "chTY8R9QMeX5",
        "outputId": "ccb4438b-1f63-4075-b283-ab3e18744c2b"
      },
      "source": [
        "print(f'Numbers of rows before: {len(clear_df)}')\r\n",
        "clear_df = clear_df.dropna(how='all')\r\n",
        "print(f'Numbers of rows after: {len(clear_df)}')"
      ],
      "execution_count": 18,
      "outputs": [
        {
          "output_type": "stream",
          "text": [
            "Numbers of rows before: 9105\n",
            "Numbers of rows after: 9104\n"
          ],
          "name": "stdout"
        }
      ]
    },
    {
      "cell_type": "markdown",
      "metadata": {
        "id": "RNNDxK5kMeX5"
      },
      "source": [
        "Empty cell in price column:"
      ]
    },
    {
      "cell_type": "code",
      "metadata": {
        "colab": {
          "base_uri": "https://localhost:8080/"
        },
        "id": "9QiccPMwMeX6",
        "outputId": "766afdd3-3a87-4a12-90de-7b14a1171eb1"
      },
      "source": [
        "print('Empty rows with Price:' + str(clear_df[clear_df['Price'].isnull()].sum(axis = 1).count()))"
      ],
      "execution_count": 19,
      "outputs": [
        {
          "output_type": "stream",
          "text": [
            "Empty rows with Price:4588\n"
          ],
          "name": "stdout"
        }
      ]
    },
    {
      "cell_type": "markdown",
      "metadata": {
        "id": "3Uc9FIkxMeX6"
      },
      "source": [
        "Remove rows where price in unknown:"
      ]
    },
    {
      "cell_type": "code",
      "metadata": {
        "colab": {
          "base_uri": "https://localhost:8080/"
        },
        "id": "EPqmg-vrMeX7",
        "outputId": "f9fde6b4-de67-483d-e605-e942f8c66fb4"
      },
      "source": [
        "print(f'Numbers of rows before: {len(clear_df)}')\r\n",
        "clear_df = clear_df.dropna(subset = ['Price'])\r\n",
        "print(f'Numbers of rows after: {len(clear_df)}')"
      ],
      "execution_count": 20,
      "outputs": [
        {
          "output_type": "stream",
          "text": [
            "Numbers of rows before: 9104\n",
            "Numbers of rows after: 4516\n"
          ],
          "name": "stdout"
        }
      ]
    },
    {
      "cell_type": "markdown",
      "metadata": {
        "id": "UjLMcG5cMeX8"
      },
      "source": [
        "Convert columns: Predict_Low and Predict_High to int:"
      ]
    },
    {
      "cell_type": "code",
      "metadata": {
        "id": "RDthqpdnMeX9"
      },
      "source": [
        "clear_df['Predict_Low'] = clear_df['Predict_Low'].fillna(0).apply(lambda x: int(str(x).replace(' ','')) if x is not None else x)\n",
        "clear_df['Predict_High'] = clear_df['Predict_High'].fillna(0).apply(lambda x: int(str(x).replace(' ','')) if x is not None else x)"
      ],
      "execution_count": 21,
      "outputs": []
    },
    {
      "cell_type": "markdown",
      "metadata": {
        "id": "3KlGE2rCMeX-"
      },
      "source": [
        "Create column with predicted average car price:"
      ]
    },
    {
      "cell_type": "code",
      "metadata": {
        "id": "J_F-dhVEMeX-"
      },
      "source": [
        "clear_df['Predict_average_price'] = (clear_df['Predict_Low'] + clear_df['Predict_High']) / 2\n",
        "clear_df['Predict_average_price'] = clear_df['Predict_average_price'].astype('int')"
      ],
      "execution_count": 22,
      "outputs": []
    },
    {
      "cell_type": "markdown",
      "metadata": {
        "id": "FDbJO84CMeX_"
      },
      "source": [
        "Description of predicted average car price:"
      ]
    },
    {
      "cell_type": "code",
      "metadata": {
        "colab": {
          "base_uri": "https://localhost:8080/"
        },
        "id": "Su_fSOEjMeYA",
        "outputId": "e209ee9a-e8a3-49f4-d35f-4fdde207455f"
      },
      "source": [
        "clear_df['Predict_average_price'].describe()"
      ],
      "execution_count": 23,
      "outputs": [
        {
          "output_type": "execute_result",
          "data": {
            "text/plain": [
              "count      4516.000000\n",
              "mean      30378.017050\n",
              "std       32228.428816\n",
              "min           0.000000\n",
              "25%           0.000000\n",
              "50%       20787.500000\n",
              "75%       47850.000000\n",
              "max      206850.000000\n",
              "Name: Predict_average_price, dtype: float64"
            ]
          },
          "metadata": {
            "tags": []
          },
          "execution_count": 23
        }
      ]
    },
    {
      "cell_type": "markdown",
      "metadata": {
        "id": "pQA-jEaIMeYA"
      },
      "source": [
        "Remove columns Predict_Low and Predict_High:"
      ]
    },
    {
      "cell_type": "code",
      "metadata": {
        "id": "Ga1WeFmZMeYB"
      },
      "source": [
        "clear_df = clear_df.drop(['Predict_Low','Predict_High'],axis = 1)"
      ],
      "execution_count": 24,
      "outputs": []
    },
    {
      "cell_type": "markdown",
      "metadata": {
        "id": "ZpH0UeovMeYB"
      },
      "source": [
        "Convert column price into int:"
      ]
    },
    {
      "cell_type": "code",
      "metadata": {
        "id": "27cDsBVBMeYB"
      },
      "source": [
        "clear_df['Price'] = clear_df['Price'].astype(int)"
      ],
      "execution_count": 25,
      "outputs": []
    },
    {
      "cell_type": "code",
      "metadata": {
        "colab": {
          "base_uri": "https://localhost:8080/"
        },
        "id": "9uVXeRFsMeYC",
        "outputId": "180df930-190b-4fff-f4f4-99074d72dcc3"
      },
      "source": [
        "clear_df['Price'].describe()"
      ],
      "execution_count": 26,
      "outputs": [
        {
          "output_type": "execute_result",
          "data": {
            "text/plain": [
              "count      4516.000000\n",
              "mean      39238.979185\n",
              "std       35371.009201\n",
              "min         990.000000\n",
              "25%       13999.000000\n",
              "50%       25500.000000\n",
              "75%       54900.000000\n",
              "max      615000.000000\n",
              "Name: Price, dtype: float64"
            ]
          },
          "metadata": {
            "tags": []
          },
          "execution_count": 26
        }
      ]
    },
    {
      "cell_type": "markdown",
      "metadata": {
        "id": "CEdBU8KOMeYC"
      },
      "source": [
        "Max value of Car is to high, show cars more expensive then 200 000:"
      ]
    },
    {
      "cell_type": "code",
      "metadata": {
        "colab": {
          "base_uri": "https://localhost:8080/",
          "height": 353
        },
        "id": "5__v85qIMeYD",
        "outputId": "9f398ab6-b484-4504-cdcd-29894c9e04eb"
      },
      "source": [
        "clear_df[clear_df['Price']>200000]"
      ],
      "execution_count": 27,
      "outputs": [
        {
          "output_type": "execute_result",
          "data": {
            "text/html": [
              "<div>\n",
              "<style scoped>\n",
              "    .dataframe tbody tr th:only-of-type {\n",
              "        vertical-align: middle;\n",
              "    }\n",
              "\n",
              "    .dataframe tbody tr th {\n",
              "        vertical-align: top;\n",
              "    }\n",
              "\n",
              "    .dataframe thead th {\n",
              "        text-align: right;\n",
              "    }\n",
              "</style>\n",
              "<table border=\"1\" class=\"dataframe\">\n",
              "  <thead>\n",
              "    <tr style=\"text-align: right;\">\n",
              "      <th></th>\n",
              "      <th>Price</th>\n",
              "      <th>Location</th>\n",
              "      <th>Oferta od</th>\n",
              "      <th>Kategoria</th>\n",
              "      <th>Marka pojazdu</th>\n",
              "      <th>Model pojazdu</th>\n",
              "      <th>Generacja</th>\n",
              "      <th>Rok produkcji</th>\n",
              "      <th>Przebieg</th>\n",
              "      <th>Pojemność skokowa</th>\n",
              "      <th>Rodzaj paliwa</th>\n",
              "      <th>Moc</th>\n",
              "      <th>Skrzynia biegów</th>\n",
              "      <th>Liczba miejsc</th>\n",
              "      <th>Kolor</th>\n",
              "      <th>Możliwość finansowania</th>\n",
              "      <th>Faktura VAT</th>\n",
              "      <th>Kraj pochodzenia</th>\n",
              "      <th>Pierwsza rejestracja</th>\n",
              "      <th>Zarejestrowany w Polsce</th>\n",
              "      <th>Pierwszy właściciel</th>\n",
              "      <th>Bezwypadkowy</th>\n",
              "      <th>Serwisowany w ASO</th>\n",
              "      <th>Stan</th>\n",
              "      <th>Liczba drzwi</th>\n",
              "      <th>VAT marża</th>\n",
              "      <th>Numer rejestracyjny pojazdu</th>\n",
              "      <th>Wersja</th>\n",
              "      <th>Typ</th>\n",
              "      <th>Metalik</th>\n",
              "      <th>Leasing</th>\n",
              "      <th>Napęd</th>\n",
              "      <th>Okres gwarancji producenta</th>\n",
              "      <th>lub do (przebieg km)</th>\n",
              "      <th>Perłowy</th>\n",
              "      <th>ABS</th>\n",
              "      <th>Elektryczne szyby przednie</th>\n",
              "      <th>Poduszka powietrzna kierowcy</th>\n",
              "      <th>Wspomaganie kierownicy</th>\n",
              "      <th>ASR (kontrola trakcji)</th>\n",
              "      <th>...</th>\n",
              "      <th>Gniazdo AUX</th>\n",
              "      <th>Kamera cofania</th>\n",
              "      <th>Podgrzewane lusterka boczne</th>\n",
              "      <th>System Start-Stop</th>\n",
              "      <th>CD</th>\n",
              "      <th>Elektrycznie ustawiane lusterka</th>\n",
              "      <th>Alarm</th>\n",
              "      <th>Asystent parkowania</th>\n",
              "      <th>Czujnik deszczu</th>\n",
              "      <th>Czujniki parkowania tylne</th>\n",
              "      <th>Gniazdo SD</th>\n",
              "      <th>Nawigacja GPS</th>\n",
              "      <th>Podgrzewane przednie siedzenia</th>\n",
              "      <th>Poduszki boczne tylne</th>\n",
              "      <th>Światła do jazdy dziennej</th>\n",
              "      <th>Alufelgi</th>\n",
              "      <th>Asystent pasa ruchu</th>\n",
              "      <th>Czujnik zmierzchu</th>\n",
              "      <th>Elektrochromatyczne lusterka boczne</th>\n",
              "      <th>Podgrzewana przednia szyba</th>\n",
              "      <th>Przyciemniane szyby</th>\n",
              "      <th>Tapicerka skórzana</th>\n",
              "      <th>Elektrycznie ustawiane fotele</th>\n",
              "      <th>Regulowane zawieszenie</th>\n",
              "      <th>Kurtyny powietrzne</th>\n",
              "      <th>Tempomat aktywny</th>\n",
              "      <th>Dach panoramiczny</th>\n",
              "      <th>Ogranicznik prędkości</th>\n",
              "      <th>Czujnik martwego pola</th>\n",
              "      <th>HUD (wyświetlacz przezierny)</th>\n",
              "      <th>Podgrzewane tylne siedzenia</th>\n",
              "      <th>Odtwarzacz DVD</th>\n",
              "      <th>Ogrzewanie postojowe</th>\n",
              "      <th>Radio niefabryczne</th>\n",
              "      <th>Światła Xenonowe</th>\n",
              "      <th>Hak</th>\n",
              "      <th>Klimatyzacja czterostrefowa</th>\n",
              "      <th>Zmieniarka CD</th>\n",
              "      <th>Tuner TV</th>\n",
              "      <th>Predict_average_price</th>\n",
              "    </tr>\n",
              "  </thead>\n",
              "  <tbody>\n",
              "    <tr>\n",
              "      <th>1861</th>\n",
              "      <td>219900</td>\n",
              "      <td>Uczniowska 36 - 80-001 Gdańsk, Letnica (Polska)</td>\n",
              "      <td>Firmy</td>\n",
              "      <td>Osobowe</td>\n",
              "      <td>Volkswagen</td>\n",
              "      <td>Golf</td>\n",
              "      <td>VII (2012-2020)</td>\n",
              "      <td>2019.0</td>\n",
              "      <td>1 km</td>\n",
              "      <td>1 989 cm3</td>\n",
              "      <td>Benzyna</td>\n",
              "      <td>300 KM</td>\n",
              "      <td>Automatyczna</td>\n",
              "      <td>5.0</td>\n",
              "      <td>Szary</td>\n",
              "      <td>Tak</td>\n",
              "      <td>Tak</td>\n",
              "      <td>Polska</td>\n",
              "      <td>NaN</td>\n",
              "      <td>NaN</td>\n",
              "      <td>NaN</td>\n",
              "      <td>Tak</td>\n",
              "      <td>NaN</td>\n",
              "      <td>Nowe</td>\n",
              "      <td>5.0</td>\n",
              "      <td>NaN</td>\n",
              "      <td>NaN</td>\n",
              "      <td>NaN</td>\n",
              "      <td>Kompakt</td>\n",
              "      <td>Tak</td>\n",
              "      <td>NaN</td>\n",
              "      <td>NaN</td>\n",
              "      <td>NaN</td>\n",
              "      <td>NaN</td>\n",
              "      <td>NaN</td>\n",
              "      <td>1.0</td>\n",
              "      <td>1.0</td>\n",
              "      <td>NaN</td>\n",
              "      <td>NaN</td>\n",
              "      <td>1.0</td>\n",
              "      <td>...</td>\n",
              "      <td>1.0</td>\n",
              "      <td>NaN</td>\n",
              "      <td>1.0</td>\n",
              "      <td>1.0</td>\n",
              "      <td>1.0</td>\n",
              "      <td>1.0</td>\n",
              "      <td>1.0</td>\n",
              "      <td>NaN</td>\n",
              "      <td>1.0</td>\n",
              "      <td>1.0</td>\n",
              "      <td>1.0</td>\n",
              "      <td>1.0</td>\n",
              "      <td>1.0</td>\n",
              "      <td>NaN</td>\n",
              "      <td>1.0</td>\n",
              "      <td>1.0</td>\n",
              "      <td>NaN</td>\n",
              "      <td>1.0</td>\n",
              "      <td>NaN</td>\n",
              "      <td>NaN</td>\n",
              "      <td>NaN</td>\n",
              "      <td>1.0</td>\n",
              "      <td>NaN</td>\n",
              "      <td>1.0</td>\n",
              "      <td>1.0</td>\n",
              "      <td>1.0</td>\n",
              "      <td>NaN</td>\n",
              "      <td>1.0</td>\n",
              "      <td>NaN</td>\n",
              "      <td>NaN</td>\n",
              "      <td>NaN</td>\n",
              "      <td>NaN</td>\n",
              "      <td>NaN</td>\n",
              "      <td>1.0</td>\n",
              "      <td>NaN</td>\n",
              "      <td>NaN</td>\n",
              "      <td>NaN</td>\n",
              "      <td>NaN</td>\n",
              "      <td>NaN</td>\n",
              "      <td>206850</td>\n",
              "    </tr>\n",
              "    <tr>\n",
              "      <th>2734</th>\n",
              "      <td>615000</td>\n",
              "      <td>NaN</td>\n",
              "      <td>Firmy</td>\n",
              "      <td>Osobowe</td>\n",
              "      <td>Volkswagen</td>\n",
              "      <td>Golf</td>\n",
              "      <td>NaN</td>\n",
              "      <td>2016.0</td>\n",
              "      <td>221 000 km</td>\n",
              "      <td>NaN</td>\n",
              "      <td>NaN</td>\n",
              "      <td>NaN</td>\n",
              "      <td>NaN</td>\n",
              "      <td>NaN</td>\n",
              "      <td>NaN</td>\n",
              "      <td>NaN</td>\n",
              "      <td>NaN</td>\n",
              "      <td>NaN</td>\n",
              "      <td>NaN</td>\n",
              "      <td>NaN</td>\n",
              "      <td>NaN</td>\n",
              "      <td>NaN</td>\n",
              "      <td>NaN</td>\n",
              "      <td>NaN</td>\n",
              "      <td>NaN</td>\n",
              "      <td>NaN</td>\n",
              "      <td>NaN</td>\n",
              "      <td>VII (2012-)</td>\n",
              "      <td>NaN</td>\n",
              "      <td>NaN</td>\n",
              "      <td>NaN</td>\n",
              "      <td>NaN</td>\n",
              "      <td>NaN</td>\n",
              "      <td>NaN</td>\n",
              "      <td>NaN</td>\n",
              "      <td>1.0</td>\n",
              "      <td>NaN</td>\n",
              "      <td>NaN</td>\n",
              "      <td>NaN</td>\n",
              "      <td>NaN</td>\n",
              "      <td>...</td>\n",
              "      <td>NaN</td>\n",
              "      <td>NaN</td>\n",
              "      <td>NaN</td>\n",
              "      <td>NaN</td>\n",
              "      <td>NaN</td>\n",
              "      <td>1.0</td>\n",
              "      <td>NaN</td>\n",
              "      <td>NaN</td>\n",
              "      <td>NaN</td>\n",
              "      <td>NaN</td>\n",
              "      <td>NaN</td>\n",
              "      <td>NaN</td>\n",
              "      <td>NaN</td>\n",
              "      <td>NaN</td>\n",
              "      <td>NaN</td>\n",
              "      <td>NaN</td>\n",
              "      <td>NaN</td>\n",
              "      <td>NaN</td>\n",
              "      <td>NaN</td>\n",
              "      <td>NaN</td>\n",
              "      <td>NaN</td>\n",
              "      <td>NaN</td>\n",
              "      <td>NaN</td>\n",
              "      <td>NaN</td>\n",
              "      <td>NaN</td>\n",
              "      <td>NaN</td>\n",
              "      <td>NaN</td>\n",
              "      <td>NaN</td>\n",
              "      <td>NaN</td>\n",
              "      <td>NaN</td>\n",
              "      <td>NaN</td>\n",
              "      <td>NaN</td>\n",
              "      <td>NaN</td>\n",
              "      <td>NaN</td>\n",
              "      <td>NaN</td>\n",
              "      <td>NaN</td>\n",
              "      <td>NaN</td>\n",
              "      <td>NaN</td>\n",
              "      <td>NaN</td>\n",
              "      <td>0</td>\n",
              "    </tr>\n",
              "    <tr>\n",
              "      <th>2948</th>\n",
              "      <td>400000</td>\n",
              "      <td>NaN</td>\n",
              "      <td>Firmy</td>\n",
              "      <td>Osobowe</td>\n",
              "      <td>Volkswagen</td>\n",
              "      <td>Golf</td>\n",
              "      <td>IV (1997-2006)</td>\n",
              "      <td>2018.0</td>\n",
              "      <td>1 000 000 km</td>\n",
              "      <td>999 cm3</td>\n",
              "      <td>Benzyna</td>\n",
              "      <td>NaN</td>\n",
              "      <td>NaN</td>\n",
              "      <td>NaN</td>\n",
              "      <td>NaN</td>\n",
              "      <td>NaN</td>\n",
              "      <td>NaN</td>\n",
              "      <td>NaN</td>\n",
              "      <td>NaN</td>\n",
              "      <td>NaN</td>\n",
              "      <td>NaN</td>\n",
              "      <td>NaN</td>\n",
              "      <td>NaN</td>\n",
              "      <td>NaN</td>\n",
              "      <td>NaN</td>\n",
              "      <td>NaN</td>\n",
              "      <td>NaN</td>\n",
              "      <td>VII 1.0 TSI BMT City</td>\n",
              "      <td>NaN</td>\n",
              "      <td>NaN</td>\n",
              "      <td>NaN</td>\n",
              "      <td>NaN</td>\n",
              "      <td>NaN</td>\n",
              "      <td>NaN</td>\n",
              "      <td>NaN</td>\n",
              "      <td>1.0</td>\n",
              "      <td>NaN</td>\n",
              "      <td>NaN</td>\n",
              "      <td>NaN</td>\n",
              "      <td>NaN</td>\n",
              "      <td>...</td>\n",
              "      <td>NaN</td>\n",
              "      <td>NaN</td>\n",
              "      <td>NaN</td>\n",
              "      <td>1.0</td>\n",
              "      <td>NaN</td>\n",
              "      <td>NaN</td>\n",
              "      <td>NaN</td>\n",
              "      <td>NaN</td>\n",
              "      <td>NaN</td>\n",
              "      <td>NaN</td>\n",
              "      <td>NaN</td>\n",
              "      <td>NaN</td>\n",
              "      <td>NaN</td>\n",
              "      <td>NaN</td>\n",
              "      <td>NaN</td>\n",
              "      <td>NaN</td>\n",
              "      <td>NaN</td>\n",
              "      <td>NaN</td>\n",
              "      <td>NaN</td>\n",
              "      <td>NaN</td>\n",
              "      <td>NaN</td>\n",
              "      <td>NaN</td>\n",
              "      <td>NaN</td>\n",
              "      <td>NaN</td>\n",
              "      <td>NaN</td>\n",
              "      <td>NaN</td>\n",
              "      <td>NaN</td>\n",
              "      <td>NaN</td>\n",
              "      <td>NaN</td>\n",
              "      <td>NaN</td>\n",
              "      <td>NaN</td>\n",
              "      <td>NaN</td>\n",
              "      <td>NaN</td>\n",
              "      <td>NaN</td>\n",
              "      <td>NaN</td>\n",
              "      <td>NaN</td>\n",
              "      <td>NaN</td>\n",
              "      <td>NaN</td>\n",
              "      <td>NaN</td>\n",
              "      <td>0</td>\n",
              "    </tr>\n",
              "  </tbody>\n",
              "</table>\n",
              "<p>3 rows × 106 columns</p>\n",
              "</div>"
            ],
            "text/plain": [
              "       Price  ... Predict_average_price\n",
              "1861  219900  ...                206850\n",
              "2734  615000  ...                     0\n",
              "2948  400000  ...                     0\n",
              "\n",
              "[3 rows x 106 columns]"
            ]
          },
          "metadata": {
            "tags": []
          },
          "execution_count": 27
        }
      ]
    },
    {
      "cell_type": "markdown",
      "metadata": {
        "id": "ekZbBWtKMeYD"
      },
      "source": [
        "Remove 2 the most expensive cars on list:"
      ]
    },
    {
      "cell_type": "code",
      "metadata": {
        "id": "Nk9bZ6dNMeYE"
      },
      "source": [
        "clear_df = clear_df[clear_df.Price < 220000]"
      ],
      "execution_count": 28,
      "outputs": []
    },
    {
      "cell_type": "markdown",
      "metadata": {
        "id": "9s0YRnlzMeYE"
      },
      "source": [
        "Create temporary column with location:"
      ]
    },
    {
      "cell_type": "code",
      "metadata": {
        "id": "8xXg32S_MeYE"
      },
      "source": [
        "clear_df['Location_TEST'] = clear_df['Location']"
      ],
      "execution_count": 30,
      "outputs": []
    },
    {
      "cell_type": "markdown",
      "metadata": {
        "id": "e2z50KJrMeYF"
      },
      "source": [
        "Function to process address:"
      ]
    },
    {
      "cell_type": "code",
      "metadata": {
        "id": "MgmAueaSMeYF"
      },
      "source": [
        "def Location (x):\n",
        "    '''\n",
        "    Function removes the street name and house number from the column.\n",
        "    Keep only the City, region, and Country name.\n",
        "    If the location is unknown assign Poland.\n",
        "    '''\n",
        "    if x is np.NAN:\n",
        "        return 'Poland'\n",
        "    else:\n",
        "        temp_list = x.split(' ')\n",
        "        numbers_of_elements = len(temp_list)\n",
        "        if numbers_of_elements > 3:\n",
        "            return \" \".join(temp_list[numbers_of_elements-3:])\n",
        "        else:\n",
        "            return x"
      ],
      "execution_count": 31,
      "outputs": []
    },
    {
      "cell_type": "markdown",
      "metadata": {
        "id": "7IBvYleKMeYF"
      },
      "source": [
        "Run function in Location_TEST column:"
      ]
    },
    {
      "cell_type": "code",
      "metadata": {
        "id": "btP5nf_hMeYF"
      },
      "source": [
        "clear_df['Location_TEST'] = clear_df['Location_TEST'].apply(Location)"
      ],
      "execution_count": 32,
      "outputs": []
    },
    {
      "cell_type": "markdown",
      "metadata": {
        "id": "GN9jjp5gMeYF"
      },
      "source": [
        "Convert Location address to Latitude and Longitude:"
      ]
    },
    {
      "cell_type": "code",
      "metadata": {
        "id": "Yt9eXfY9MeYG"
      },
      "source": [
        "import geopandas\n",
        "import geopy\n",
        "from geopy.geocoders import Nominatim\n",
        "geolocator = Nominatim(user_agent=\"data_cleaning\")\n",
        "locator = Nominatim(user_agent=\"myGeocoder\")"
      ],
      "execution_count": 35,
      "outputs": []
    },
    {
      "cell_type": "code",
      "metadata": {
        "scrolled": true,
        "id": "ck5ZLFUAMeYG"
      },
      "source": [
        "from geopy.extra.rate_limiter import RateLimiter\n",
        "\n",
        "# 1 - conveneint function to delay between geocoding calls\n",
        "geocode = RateLimiter(locator.geocode, min_delay_seconds=0)\n",
        "# 2- - create location column\n",
        "clear_df['Cordinates'] = clear_df['Location_TEST'].apply(geocode)\n",
        "# 3 - create longitude, laatitude and altitude from location column (returns tuple)\n",
        "clear_df['point'] = clear_df['Cordinates'].apply(lambda loc: tuple(loc.point) if loc else None)\n",
        "# 4 - split point column into latitude, longitude and altitude columns\n",
        "clear_df[['latitude', 'longitude', 'altitude']] = pd.DataFrame(clear_df['point'].tolist(), index=clear_df.index)"
      ],
      "execution_count": 36,
      "outputs": []
    },
    {
      "cell_type": "markdown",
      "metadata": {
        "id": "zra6wQYaMeYG"
      },
      "source": [
        "Remove from database empty cells with locations:"
      ]
    },
    {
      "cell_type": "code",
      "metadata": {
        "id": "odWeDMsBMeYG"
      },
      "source": [
        "clear_df = clear_df[clear_df['longitude'].notnull()]"
      ],
      "execution_count": 37,
      "outputs": []
    },
    {
      "cell_type": "markdown",
      "metadata": {
        "id": "lhp7f1YnMeYG"
      },
      "source": [
        "Remove unusued columns of locations:"
      ]
    },
    {
      "cell_type": "code",
      "metadata": {
        "id": "XT0hnIRUMeYH"
      },
      "source": [
        "clear_df = clear_df.drop(columns = ['Location','Location_TEST','Cordinates','altitude','point'])"
      ],
      "execution_count": 38,
      "outputs": []
    },
    {
      "cell_type": "markdown",
      "metadata": {
        "id": "rv6DHtF5MeYH"
      },
      "source": [
        "Save/load dataframe to csv after location processing:"
      ]
    },
    {
      "cell_type": "code",
      "metadata": {
        "id": "LuxgSJOdMeYH"
      },
      "source": [
        "clear_df.to_csv('Locaton_Golf.csv')"
      ],
      "execution_count": 42,
      "outputs": []
    },
    {
      "cell_type": "code",
      "metadata": {
        "id": "jb8DKSVThSk9"
      },
      "source": [
        "clear_df = pd.read_csv('Locaton_Golf.csv')"
      ],
      "execution_count": 138,
      "outputs": []
    },
    {
      "cell_type": "markdown",
      "metadata": {
        "id": "NdtXtSsnMeYH"
      },
      "source": [
        "Function to change seller name from Polish to English:"
      ]
    },
    {
      "cell_type": "code",
      "metadata": {
        "id": "4SfGOsbIMeYI"
      },
      "source": [
        "def seller(x):\n",
        "    if x == 'Osoby prywatnej':\n",
        "        return 1\n",
        "    else:\n",
        "        return 0"
      ],
      "execution_count": 139,
      "outputs": []
    },
    {
      "cell_type": "markdown",
      "metadata": {
        "id": "8G3dGTsVMeYI"
      },
      "source": [
        "Apply seller function to new column and remove old one:"
      ]
    },
    {
      "cell_type": "code",
      "metadata": {
        "id": "g0uJPpYUMeYI"
      },
      "source": [
        "clear_df['private-seller'] = clear_df['Oferta od'].apply(seller)\n",
        "clear_df = clear_df.drop(columns = ['Oferta od'])"
      ],
      "execution_count": 140,
      "outputs": []
    },
    {
      "cell_type": "markdown",
      "metadata": {
        "id": "9Q5jYgobMeYI"
      },
      "source": [
        "Remove column kategoria because keep everywhere the same value:"
      ]
    },
    {
      "cell_type": "code",
      "metadata": {
        "id": "L2X3o4NJMeYI"
      },
      "source": [
        "clear_df = clear_df.drop(columns = ['Kategoria'])"
      ],
      "execution_count": 141,
      "outputs": []
    },
    {
      "cell_type": "markdown",
      "metadata": {
        "id": "ybmzsc6ZMeYI"
      },
      "source": [
        "Remove null values in car generation from dataframe:"
      ]
    },
    {
      "cell_type": "code",
      "metadata": {
        "id": "U5XVoNk6MeYJ"
      },
      "source": [
        "clear_df = clear_df[clear_df['Generacja'].notnull()]"
      ],
      "execution_count": 142,
      "outputs": []
    },
    {
      "cell_type": "markdown",
      "metadata": {
        "id": "rEfOH6APMeYJ"
      },
      "source": [
        "Convert year of production to int:"
      ]
    },
    {
      "cell_type": "code",
      "metadata": {
        "id": "6SPBqkmvMeYJ"
      },
      "source": [
        "clear_df['Rok produkcji'] = clear_df['Rok produkcji'].astype(int)"
      ],
      "execution_count": 143,
      "outputs": []
    },
    {
      "cell_type": "markdown",
      "metadata": {
        "id": "tD7EkjbAMeYJ"
      },
      "source": [
        "Convert distanse from str to int:"
      ]
    },
    {
      "cell_type": "code",
      "metadata": {
        "id": "1x8SA2cAMeYJ"
      },
      "source": [
        "clear_df['distance'] = clear_df['Przebieg'].apply(lambda x: (str(x)).replace(' ','').replace('km',''))"
      ],
      "execution_count": 144,
      "outputs": []
    },
    {
      "cell_type": "code",
      "metadata": {
        "id": "lZ1HjlXfMeYJ"
      },
      "source": [
        "clear_df['distance'] = clear_df['distance'].astype(float)\n",
        "clear_df['distance'] = clear_df['distance'].fillna(0)\n",
        "clear_df['distance'] = clear_df['distance'].astype(int)"
      ],
      "execution_count": 145,
      "outputs": []
    },
    {
      "cell_type": "code",
      "metadata": {
        "colab": {
          "base_uri": "https://localhost:8080/"
        },
        "id": "9q0peq8bMeYK",
        "outputId": "38cb8f83-1eb8-4466-9861-06dbc0793572"
      },
      "source": [
        "print(f'Numbers of rows before: {len(clear_df)}')\r\n",
        "clear_df = clear_df.drop(columns = ['Przebieg'])\r\n",
        "print(f'Numbers of rows after: {len(clear_df)}')"
      ],
      "execution_count": 146,
      "outputs": [
        {
          "output_type": "stream",
          "text": [
            "Numbers of rows before: 4309\n",
            "Numbers of rows after: 4309\n"
          ],
          "name": "stdout"
        }
      ]
    },
    {
      "cell_type": "markdown",
      "metadata": {
        "id": "OzLKnRoSMeYK"
      },
      "source": [
        "Transform colum Pojemność skokowa into engine-capacity type of int:"
      ]
    },
    {
      "cell_type": "code",
      "metadata": {
        "id": "VOr1Yt1sMeYK"
      },
      "source": [
        "clear_df['engine-capacity'] = clear_df['Pojemność skokowa'].apply(lambda x: (str(x)).replace(' ','').replace('cm3',''))\n",
        "clear_df['engine-capacity'] = clear_df['engine-capacity'].astype(float)\n",
        "clear_df = clear_df[clear_df['engine-capacity'].notnull()]\n",
        "clear_df['engine-capacity'] = clear_df['engine-capacity'].astype(int)\n",
        "clear_df = clear_df.drop(columns = ['Pojemność skokowa'])"
      ],
      "execution_count": 147,
      "outputs": []
    },
    {
      "cell_type": "markdown",
      "metadata": {
        "id": "6yp_8ezEMeYK"
      },
      "source": [
        "Transform column Rodzaj paliwa into 0,1 values in separated columns:"
      ]
    },
    {
      "cell_type": "code",
      "metadata": {
        "id": "TpZTsh1dMeYL"
      },
      "source": [
        "clear_df = clear_df[(clear_df['Rodzaj paliwa'] == 'Benzyna') | (clear_df['Rodzaj paliwa'] == 'Diesel')]\n",
        "clear_df['Petrol'] = clear_df['Rodzaj paliwa'].apply(lambda x : 1 if x == 'Benzyna' else 0)\n",
        "clear_df['Diesel'] = clear_df['Rodzaj paliwa'].apply(lambda x : 1 if x == 'Diesel' else 0)\n",
        "clear_df = clear_df.drop(columns = 'Rodzaj paliwa')"
      ],
      "execution_count": 148,
      "outputs": []
    },
    {
      "cell_type": "markdown",
      "metadata": {
        "id": "0WQW-uIUMeYL"
      },
      "source": [
        "Transform column Moc into engine-output with int values. Remove empty rows and column Moc:"
      ]
    },
    {
      "cell_type": "code",
      "metadata": {
        "id": "l0eqV5KpMeYM"
      },
      "source": [
        "clear_df = clear_df[clear_df['Moc'].notnull()]\n",
        "clear_df['engine-output'] = clear_df['Moc'].apply(lambda x : x[:-3] if x.endswith(' KM') else 0)\n",
        "clear_df['engine-output'] = clear_df['engine-output'].astype(int)\n",
        "clear_df = clear_df.drop(columns = 'Moc')"
      ],
      "execution_count": 149,
      "outputs": []
    },
    {
      "cell_type": "markdown",
      "metadata": {
        "id": "2tA5LQ36MeYM"
      },
      "source": [
        "Transform column Skrzynia biegów into Automatic transmission with 0/1 values:"
      ]
    },
    {
      "cell_type": "code",
      "metadata": {
        "colab": {
          "base_uri": "https://localhost:8080/"
        },
        "id": "HXk7BVLcMeYM",
        "outputId": "4fd2c838-4de3-42aa-df2e-ad9d0b4e7624"
      },
      "source": [
        "clear_df['Skrzynia biegów'].value_counts()"
      ],
      "execution_count": 150,
      "outputs": [
        {
          "output_type": "execute_result",
          "data": {
            "text/plain": [
              "Manualna        1671\n",
              "Automatyczna     326\n",
              "Name: Skrzynia biegów, dtype: int64"
            ]
          },
          "metadata": {
            "tags": []
          },
          "execution_count": 150
        }
      ]
    },
    {
      "cell_type": "code",
      "metadata": {
        "id": "81ad3cqCMeYN"
      },
      "source": [
        "clear_df['Skrzynia biegów'] = clear_df['Skrzynia biegów'].fillna(\"Manualna\")\n",
        "clear_df['automatic-transmission'] = clear_df['Skrzynia biegów'].apply(lambda x : 1 if x == 'Automatyczna' else 0)\n",
        "clear_df['automatic-transmission'] = clear_df['automatic-transmission'].astype(int)\n",
        "clear_df = clear_df.drop(columns = 'Skrzynia biegów')"
      ],
      "execution_count": 151,
      "outputs": []
    },
    {
      "cell_type": "markdown",
      "metadata": {
        "id": "_QkKZ9WQMeYN"
      },
      "source": [
        "From column Liczba miejsc create int column with numbers of seats fill empty with value =5 and remove column Liczba miejsc:"
      ]
    },
    {
      "cell_type": "code",
      "metadata": {
        "id": "PVpXneBgMeYN"
      },
      "source": [
        "clear_df['Liczba miejsc'] = clear_df['Liczba miejsc'].fillna(5)\n",
        "clear_df['number-of-seats'] = clear_df['Liczba miejsc']\n",
        "clear_df['number-of-seats'] = clear_df['number-of-seats'].astype(int)\n",
        "clear_df = clear_df.drop(columns = 'Liczba miejsc')"
      ],
      "execution_count": 152,
      "outputs": []
    },
    {
      "cell_type": "markdown",
      "metadata": {
        "id": "kE5qRe_sMeYN"
      },
      "source": [
        "1. Create column color.\n",
        "2. Remove empty rows with Colour.\n",
        "3. Translate values in column Color."
      ]
    },
    {
      "cell_type": "code",
      "metadata": {
        "id": "y-6q3KgbMeYO"
      },
      "source": [
        "eng_colors = '''Black 1003\n",
        "Silver 743\n",
        "Gray 596\n",
        "White 466\n",
        "Blue 442\n",
        "Other_color 194\n",
        "Red 125\n",
        "Green 51\n",
        "Gold 39\n",
        "Beige 38\n",
        "Yellow 27\n",
        "Burgundy 27\n",
        "Brown 26\n",
        "Purple 15'''\n",
        "\n",
        "eng_colors_list = []\n",
        "eng_colors =  eng_colors.split('\\n')\n",
        "for item in eng_colors:\n",
        "    eng_colors_list.append(item.split(\" \")[0])\n",
        "\n",
        "\n",
        "pl_colors = '''Czarny        1003\n",
        "Srebrny        743\n",
        "Szary          596\n",
        "Biały          466\n",
        "Niebieski      442\n",
        "Inny kolor     194\n",
        "Czerwony       125\n",
        "Zielony         51\n",
        "Złoty           39\n",
        "Beżowy          38\n",
        "Żółty           27\n",
        "Bordowy         27\n",
        "Brązowy         26\n",
        "Fioletowy       15'''\n",
        "\n",
        "pl_colors_list = []\n",
        "pl_colors =  pl_colors.split('\\n')\n",
        "for item in pl_colors:\n",
        "    pl_colors_list.append(item.split(\" \")[0]) if item.split(\" \")[0] != 'Inny' else pl_colors_list.append(\"Inny kolor\")\n",
        "\n",
        "    \n",
        "clear_df['color'] = clear_df['Kolor'].replace(dict(zip(pl_colors_list, eng_colors_list)) , inplace=True)\n",
        "clear_df['color'] = clear_df['Kolor']\n",
        "clear_df = clear_df[clear_df['color'].notnull()]\n",
        "clear_df = clear_df.drop(columns = ['Kolor'])"
      ],
      "execution_count": 153,
      "outputs": []
    },
    {
      "cell_type": "markdown",
      "metadata": {
        "id": "MDqZLLFOMeYO"
      },
      "source": [
        "1. Create column finance option,\n",
        "2. Append with 1 if finnancing is posible 0 if not\n",
        "3. Remove column Możliwość finansowania"
      ]
    },
    {
      "cell_type": "code",
      "metadata": {
        "id": "g1DT3WhqMeYO"
      },
      "source": [
        "clear_df['funding-available'] = clear_df['Możliwość finansowania']\n",
        "clear_df['funding-available'] = clear_df['funding-available'].apply(lambda x: 1 if x == 'Tak' else 0)\n",
        "clear_df = clear_df.drop(columns = ['Możliwość finansowania'])"
      ],
      "execution_count": 154,
      "outputs": []
    },
    {
      "cell_type": "markdown",
      "metadata": {
        "id": "Wln2wpwoMeYO"
      },
      "source": [
        "1. Create column Invoice-for-car,\n",
        "2. Append with 1 if Invoice is posible 0 if not\n",
        "3. Remove column Faktura VAT"
      ]
    },
    {
      "cell_type": "code",
      "metadata": {
        "id": "V-Y0Fv7oMeYO"
      },
      "source": [
        "clear_df['Invoice-for-car'] = clear_df['Faktura VAT']\n",
        "clear_df['Invoice-for-car'] = clear_df['Invoice-for-car'].apply(lambda x: 1 if x == 'Tak' else 0)\n",
        "clear_df = clear_df.drop(columns = ['Faktura VAT'])"
      ],
      "execution_count": 155,
      "outputs": []
    },
    {
      "cell_type": "markdown",
      "metadata": {
        "id": "tG-RY48SMeYP"
      },
      "source": [
        "1. Create column Bought as new in Poland,\n",
        "2. Append with 1 if Yes is posible 0 if not\n",
        "3. Remove column Kraj pochodzenia"
      ]
    },
    {
      "cell_type": "code",
      "metadata": {
        "id": "FQnACMdaMeYP"
      },
      "source": [
        "clear_df['Bought-as-new-in-Poland'] = clear_df['Kraj pochodzenia']\n",
        "clear_df['Bought-as-new-in-Poland'] = clear_df['Bought-as-new-in-Poland'].apply(lambda x: 1 if x == 'Polska' else 0)\n",
        "clear_df = clear_df.drop(columns = ['Kraj pochodzenia'])"
      ],
      "execution_count": 156,
      "outputs": []
    },
    {
      "cell_type": "markdown",
      "metadata": {
        "id": "jr_9-QyXMeYP"
      },
      "source": [
        "Remove column Pierwsza rejestracja because lack of values and strongly correlated with year of production:"
      ]
    },
    {
      "cell_type": "code",
      "metadata": {
        "id": "0eyY7TC_MeYP"
      },
      "source": [
        "clear_df = clear_df.drop(columns = ['Pierwsza rejestracja'])"
      ],
      "execution_count": 157,
      "outputs": []
    },
    {
      "cell_type": "markdown",
      "metadata": {
        "id": "NEf5lmIFMeYP"
      },
      "source": [
        "1. Create column Registered in Poland\n",
        "2. Append with 1 if Yes is posible 0 if not\n",
        "3. Remove column Zarejestrowany w Polsce"
      ]
    },
    {
      "cell_type": "code",
      "metadata": {
        "id": "urCwQLsnMeYP"
      },
      "source": [
        "clear_df['Registered_in_Poland'] = clear_df['Zarejestrowany w Polsce']\n",
        "clear_df['Registered_in_Poland'] = clear_df['Registered_in_Poland'].apply(lambda x: 1 if x == 'Tak' else 0)\n",
        "clear_df = clear_df.drop(columns = ['Zarejestrowany w Polsce'])"
      ],
      "execution_count": 158,
      "outputs": []
    },
    {
      "cell_type": "markdown",
      "metadata": {
        "id": "K1FG45MXMeYQ"
      },
      "source": [
        "1. Create column Never crashed\n",
        "2. Append with 1 if Yes is posible 0 if not\n",
        "3. Remove column Bezwypadkowy"
      ]
    },
    {
      "cell_type": "code",
      "metadata": {
        "id": "0YKlqJgVMeYQ"
      },
      "source": [
        "clear_df['Never crashed'] = clear_df['Bezwypadkowy']\n",
        "clear_df['Never crashed'] = clear_df['Never crashed'].apply(lambda x: 1 if x == 'Tak' else 0)\n",
        "clear_df = clear_df.drop(columns = ['Bezwypadkowy'])"
      ],
      "execution_count": 159,
      "outputs": []
    },
    {
      "cell_type": "markdown",
      "metadata": {
        "id": "s3V1H_rkMeYR"
      },
      "source": [
        "1. Create column From first owner\n",
        "2. Append with 1 if Yes is posible 0 if not\n",
        "3. Remove column Pierwszy właściciel"
      ]
    },
    {
      "cell_type": "code",
      "metadata": {
        "id": "D6NzdsdeMeYR"
      },
      "source": [
        "clear_df['From-first-owner'] = clear_df['Pierwszy właściciel']\n",
        "clear_df['From-first-owner'] = clear_df['From-first-owner'].apply(lambda x: 1 if x == 'Tak' else 0)\n",
        "clear_df = clear_df.drop(columns = ['Pierwszy właściciel'])"
      ],
      "execution_count": 160,
      "outputs": []
    },
    {
      "cell_type": "markdown",
      "metadata": {
        "id": "zaaFatArMeYR"
      },
      "source": [
        "1. Create column Serviced in authorized service center\n",
        "2. Append with 1 if Yes is posible 0 if not\n",
        "3. Remove column Serwisowany w ASO"
      ]
    },
    {
      "cell_type": "code",
      "metadata": {
        "id": "5KKbQy57MeYR"
      },
      "source": [
        "clear_df['Serviced in authorized service center'] = clear_df['Serwisowany w ASO']\n",
        "clear_df['Serviced in authorized service center'] = clear_df['Serviced in authorized service center'].apply(lambda x: 1 if x == 'Tak' else 0)\n",
        "clear_df = clear_df.drop(columns = ['Serwisowany w ASO'])"
      ],
      "execution_count": 161,
      "outputs": []
    },
    {
      "cell_type": "markdown",
      "metadata": {
        "id": "xhvuJUt-MeYR"
      },
      "source": [
        "Remove brand new cars from data base:"
      ]
    },
    {
      "cell_type": "code",
      "metadata": {
        "id": "vb5etr7hMeYS"
      },
      "source": [
        "clear_df = clear_df[clear_df.Stan != 'Nowe']"
      ],
      "execution_count": 162,
      "outputs": []
    },
    {
      "cell_type": "markdown",
      "metadata": {
        "id": "lKTkeSUmMeYS"
      },
      "source": [
        "Remove column Stan:"
      ]
    },
    {
      "cell_type": "code",
      "metadata": {
        "id": "ody7ioyJMeYS"
      },
      "source": [
        "clear_df = clear_df.drop(columns = ['Stan'])"
      ],
      "execution_count": 163,
      "outputs": []
    },
    {
      "cell_type": "markdown",
      "metadata": {
        "id": "ibDt808WMeYS"
      },
      "source": [
        "Remove column Liczba drzwi because most car in list is 5 door:"
      ]
    },
    {
      "cell_type": "code",
      "metadata": {
        "id": "m-7hmsqgMeYS"
      },
      "source": [
        "clear_df = clear_df.drop(columns = ['Liczba drzwi'])"
      ],
      "execution_count": 164,
      "outputs": []
    },
    {
      "cell_type": "markdown",
      "metadata": {
        "id": "eptdBLVCY5cX"
      },
      "source": [
        "Rename converted columns:"
      ]
    },
    {
      "cell_type": "code",
      "metadata": {
        "colab": {
          "base_uri": "https://localhost:8080/",
          "height": 210
        },
        "id": "5JjOC8FFZB2c",
        "outputId": "f78a1db0-2da5-4f50-d402-d207cde3a600"
      },
      "source": [
        "clear_df = clear_df.rename(columns={\"Marka pojazdu\": \"Brand\", \"Model pojazdu\": \"Model\"})\r\n",
        "clear_df.head(1)"
      ],
      "execution_count": 165,
      "outputs": [
        {
          "output_type": "execute_result",
          "data": {
            "text/html": [
              "<div>\n",
              "<style scoped>\n",
              "    .dataframe tbody tr th:only-of-type {\n",
              "        vertical-align: middle;\n",
              "    }\n",
              "\n",
              "    .dataframe tbody tr th {\n",
              "        vertical-align: top;\n",
              "    }\n",
              "\n",
              "    .dataframe thead th {\n",
              "        text-align: right;\n",
              "    }\n",
              "</style>\n",
              "<table border=\"1\" class=\"dataframe\">\n",
              "  <thead>\n",
              "    <tr style=\"text-align: right;\">\n",
              "      <th></th>\n",
              "      <th>Unnamed: 0</th>\n",
              "      <th>Price</th>\n",
              "      <th>Brand</th>\n",
              "      <th>Model</th>\n",
              "      <th>Generacja</th>\n",
              "      <th>Rok produkcji</th>\n",
              "      <th>VAT marża</th>\n",
              "      <th>Numer rejestracyjny pojazdu</th>\n",
              "      <th>Wersja</th>\n",
              "      <th>Typ</th>\n",
              "      <th>Metalik</th>\n",
              "      <th>Leasing</th>\n",
              "      <th>Napęd</th>\n",
              "      <th>Okres gwarancji producenta</th>\n",
              "      <th>lub do (przebieg km)</th>\n",
              "      <th>Perłowy</th>\n",
              "      <th>ABS</th>\n",
              "      <th>Elektryczne szyby przednie</th>\n",
              "      <th>Poduszka powietrzna kierowcy</th>\n",
              "      <th>Wspomaganie kierownicy</th>\n",
              "      <th>ASR (kontrola trakcji)</th>\n",
              "      <th>Elektryczne szyby tylne</th>\n",
              "      <th>Gniazdo USB</th>\n",
              "      <th>Klimatyzacja dwustrefowa</th>\n",
              "      <th>MP3</th>\n",
              "      <th>Poduszka powietrzna chroniąca kolana</th>\n",
              "      <th>Relingi dachowe</th>\n",
              "      <th>Światła LED</th>\n",
              "      <th>Tempomat</th>\n",
              "      <th>Klimatyzacja manualna</th>\n",
              "      <th>Tapicerka welurowa</th>\n",
              "      <th>Centralny zamek</th>\n",
              "      <th>Komputer pokładowy</th>\n",
              "      <th>Szyberdach</th>\n",
              "      <th>Wielofunkcyjna kierownica</th>\n",
              "      <th>Isofix</th>\n",
              "      <th>ESP (stabilizacja toru jazdy)</th>\n",
              "      <th>Poduszka powietrzna pasażera</th>\n",
              "      <th>Łopatki zmiany biegów</th>\n",
              "      <th>Radio fabryczne</th>\n",
              "      <th>...</th>\n",
              "      <th>Elektrochromatyczne lusterka boczne</th>\n",
              "      <th>Podgrzewana przednia szyba</th>\n",
              "      <th>Przyciemniane szyby</th>\n",
              "      <th>Tapicerka skórzana</th>\n",
              "      <th>Elektrycznie ustawiane fotele</th>\n",
              "      <th>Regulowane zawieszenie</th>\n",
              "      <th>Kurtyny powietrzne</th>\n",
              "      <th>Tempomat aktywny</th>\n",
              "      <th>Dach panoramiczny</th>\n",
              "      <th>Ogranicznik prędkości</th>\n",
              "      <th>Czujnik martwego pola</th>\n",
              "      <th>HUD (wyświetlacz przezierny)</th>\n",
              "      <th>Podgrzewane tylne siedzenia</th>\n",
              "      <th>Odtwarzacz DVD</th>\n",
              "      <th>Ogrzewanie postojowe</th>\n",
              "      <th>Radio niefabryczne</th>\n",
              "      <th>Światła Xenonowe</th>\n",
              "      <th>Hak</th>\n",
              "      <th>Klimatyzacja czterostrefowa</th>\n",
              "      <th>Zmieniarka CD</th>\n",
              "      <th>Tuner TV</th>\n",
              "      <th>Predict_average_price</th>\n",
              "      <th>latitude</th>\n",
              "      <th>longitude</th>\n",
              "      <th>private-seller</th>\n",
              "      <th>distance</th>\n",
              "      <th>engine-capacity</th>\n",
              "      <th>Petrol</th>\n",
              "      <th>Diesel</th>\n",
              "      <th>engine-output</th>\n",
              "      <th>automatic-transmission</th>\n",
              "      <th>number-of-seats</th>\n",
              "      <th>color</th>\n",
              "      <th>funding-available</th>\n",
              "      <th>Invoice-for-car</th>\n",
              "      <th>Bought-as-new-in-Poland</th>\n",
              "      <th>Registered_in_Poland</th>\n",
              "      <th>Never crashed</th>\n",
              "      <th>From-first-owner</th>\n",
              "      <th>Serviced in authorized service center</th>\n",
              "    </tr>\n",
              "  </thead>\n",
              "  <tbody>\n",
              "    <tr>\n",
              "      <th>6</th>\n",
              "      <td>6</td>\n",
              "      <td>15900</td>\n",
              "      <td>Volkswagen</td>\n",
              "      <td>Golf</td>\n",
              "      <td>V (2003-2009)</td>\n",
              "      <td>2008</td>\n",
              "      <td>NaN</td>\n",
              "      <td>NaN</td>\n",
              "      <td>NaN</td>\n",
              "      <td>Kompakt</td>\n",
              "      <td>NaN</td>\n",
              "      <td>NaN</td>\n",
              "      <td>NaN</td>\n",
              "      <td>NaN</td>\n",
              "      <td>NaN</td>\n",
              "      <td>NaN</td>\n",
              "      <td>NaN</td>\n",
              "      <td>NaN</td>\n",
              "      <td>NaN</td>\n",
              "      <td>NaN</td>\n",
              "      <td>NaN</td>\n",
              "      <td>NaN</td>\n",
              "      <td>NaN</td>\n",
              "      <td>NaN</td>\n",
              "      <td>NaN</td>\n",
              "      <td>NaN</td>\n",
              "      <td>NaN</td>\n",
              "      <td>NaN</td>\n",
              "      <td>NaN</td>\n",
              "      <td>NaN</td>\n",
              "      <td>NaN</td>\n",
              "      <td>NaN</td>\n",
              "      <td>NaN</td>\n",
              "      <td>NaN</td>\n",
              "      <td>NaN</td>\n",
              "      <td>NaN</td>\n",
              "      <td>NaN</td>\n",
              "      <td>NaN</td>\n",
              "      <td>NaN</td>\n",
              "      <td>NaN</td>\n",
              "      <td>...</td>\n",
              "      <td>NaN</td>\n",
              "      <td>NaN</td>\n",
              "      <td>NaN</td>\n",
              "      <td>NaN</td>\n",
              "      <td>NaN</td>\n",
              "      <td>NaN</td>\n",
              "      <td>NaN</td>\n",
              "      <td>NaN</td>\n",
              "      <td>NaN</td>\n",
              "      <td>NaN</td>\n",
              "      <td>NaN</td>\n",
              "      <td>NaN</td>\n",
              "      <td>NaN</td>\n",
              "      <td>NaN</td>\n",
              "      <td>NaN</td>\n",
              "      <td>NaN</td>\n",
              "      <td>NaN</td>\n",
              "      <td>NaN</td>\n",
              "      <td>NaN</td>\n",
              "      <td>NaN</td>\n",
              "      <td>NaN</td>\n",
              "      <td>0</td>\n",
              "      <td>52.215933</td>\n",
              "      <td>19.134422</td>\n",
              "      <td>1</td>\n",
              "      <td>200000</td>\n",
              "      <td>1390</td>\n",
              "      <td>1</td>\n",
              "      <td>0</td>\n",
              "      <td>140</td>\n",
              "      <td>0</td>\n",
              "      <td>5</td>\n",
              "      <td>Black</td>\n",
              "      <td>1</td>\n",
              "      <td>0</td>\n",
              "      <td>1</td>\n",
              "      <td>1</td>\n",
              "      <td>1</td>\n",
              "      <td>0</td>\n",
              "      <td>0</td>\n",
              "    </tr>\n",
              "  </tbody>\n",
              "</table>\n",
              "<p>1 rows × 105 columns</p>\n",
              "</div>"
            ],
            "text/plain": [
              "   Unnamed: 0  Price  ... From-first-owner Serviced in authorized service center\n",
              "6           6  15900  ...                0                                     0\n",
              "\n",
              "[1 rows x 105 columns]"
            ]
          },
          "metadata": {
            "tags": []
          },
          "execution_count": 165
        }
      ]
    },
    {
      "cell_type": "markdown",
      "metadata": {
        "id": "xIHcD_cPZjyR"
      },
      "source": [
        "Transform generation column:"
      ]
    },
    {
      "cell_type": "code",
      "metadata": {
        "colab": {
          "base_uri": "https://localhost:8080/"
        },
        "id": "2FNPaMYgZqKz",
        "outputId": "6c6ecca7-5ea7-4222-e2fa-6f06774cc105"
      },
      "source": [
        "clear_df['Generacja'].value_counts(dropna = False)"
      ],
      "execution_count": 166,
      "outputs": [
        {
          "output_type": "execute_result",
          "data": {
            "text/plain": [
              "VII (2012-2020)    1207\n",
              "VI (2008-2013)      846\n",
              "V (2003-2009)       791\n",
              "IV (1997-2006)      401\n",
              "III (1991-1998)      33\n",
              "II (1983-1992)       30\n",
              "VIII (2020-)         17\n",
              "I (1974-1983)        10\n",
              "Name: Generacja, dtype: int64"
            ]
          },
          "metadata": {
            "tags": []
          },
          "execution_count": 166
        }
      ]
    },
    {
      "cell_type": "code",
      "metadata": {
        "colab": {
          "base_uri": "https://localhost:8080/"
        },
        "id": "wrQaSN2cZxWi",
        "outputId": "b62288ef-4f21-4a80-d5c2-1baecbc7e1dd"
      },
      "source": [
        "clear_df['Generacja']= clear_df['Generacja'].apply(lambda x: x.split(' ')[0])\r\n",
        "clear_df['Generacja']"
      ],
      "execution_count": 167,
      "outputs": [
        {
          "output_type": "execute_result",
          "data": {
            "text/plain": [
              "6         V\n",
              "12      VII\n",
              "13      VII\n",
              "17      VII\n",
              "18      VII\n",
              "       ... \n",
              "4507    VII\n",
              "4508      V\n",
              "4509     VI\n",
              "4510    VII\n",
              "4511     IV\n",
              "Name: Generacja, Length: 3335, dtype: object"
            ]
          },
          "metadata": {
            "tags": []
          },
          "execution_count": 167
        }
      ]
    },
    {
      "cell_type": "code",
      "metadata": {
        "colab": {
          "base_uri": "https://localhost:8080/",
          "height": 193
        },
        "id": "YhCyRDfKai02",
        "outputId": "577dd4c3-7941-44a7-ca3d-6c78d81a71c4"
      },
      "source": [
        "clear_df = clear_df.rename(columns={\"Generacja\": \"Generation\"})\r\n",
        "clear_df.head(1)"
      ],
      "execution_count": 168,
      "outputs": [
        {
          "output_type": "execute_result",
          "data": {
            "text/html": [
              "<div>\n",
              "<style scoped>\n",
              "    .dataframe tbody tr th:only-of-type {\n",
              "        vertical-align: middle;\n",
              "    }\n",
              "\n",
              "    .dataframe tbody tr th {\n",
              "        vertical-align: top;\n",
              "    }\n",
              "\n",
              "    .dataframe thead th {\n",
              "        text-align: right;\n",
              "    }\n",
              "</style>\n",
              "<table border=\"1\" class=\"dataframe\">\n",
              "  <thead>\n",
              "    <tr style=\"text-align: right;\">\n",
              "      <th></th>\n",
              "      <th>Unnamed: 0</th>\n",
              "      <th>Price</th>\n",
              "      <th>Brand</th>\n",
              "      <th>Model</th>\n",
              "      <th>Generation</th>\n",
              "      <th>Rok produkcji</th>\n",
              "      <th>VAT marża</th>\n",
              "      <th>Numer rejestracyjny pojazdu</th>\n",
              "      <th>Wersja</th>\n",
              "      <th>Typ</th>\n",
              "      <th>Metalik</th>\n",
              "      <th>Leasing</th>\n",
              "      <th>Napęd</th>\n",
              "      <th>Okres gwarancji producenta</th>\n",
              "      <th>lub do (przebieg km)</th>\n",
              "      <th>Perłowy</th>\n",
              "      <th>ABS</th>\n",
              "      <th>Elektryczne szyby przednie</th>\n",
              "      <th>Poduszka powietrzna kierowcy</th>\n",
              "      <th>Wspomaganie kierownicy</th>\n",
              "      <th>ASR (kontrola trakcji)</th>\n",
              "      <th>Elektryczne szyby tylne</th>\n",
              "      <th>Gniazdo USB</th>\n",
              "      <th>Klimatyzacja dwustrefowa</th>\n",
              "      <th>MP3</th>\n",
              "      <th>Poduszka powietrzna chroniąca kolana</th>\n",
              "      <th>Relingi dachowe</th>\n",
              "      <th>Światła LED</th>\n",
              "      <th>Tempomat</th>\n",
              "      <th>Klimatyzacja manualna</th>\n",
              "      <th>Tapicerka welurowa</th>\n",
              "      <th>Centralny zamek</th>\n",
              "      <th>Komputer pokładowy</th>\n",
              "      <th>Szyberdach</th>\n",
              "      <th>Wielofunkcyjna kierownica</th>\n",
              "      <th>Isofix</th>\n",
              "      <th>ESP (stabilizacja toru jazdy)</th>\n",
              "      <th>Poduszka powietrzna pasażera</th>\n",
              "      <th>Łopatki zmiany biegów</th>\n",
              "      <th>Radio fabryczne</th>\n",
              "      <th>...</th>\n",
              "      <th>Elektrochromatyczne lusterka boczne</th>\n",
              "      <th>Podgrzewana przednia szyba</th>\n",
              "      <th>Przyciemniane szyby</th>\n",
              "      <th>Tapicerka skórzana</th>\n",
              "      <th>Elektrycznie ustawiane fotele</th>\n",
              "      <th>Regulowane zawieszenie</th>\n",
              "      <th>Kurtyny powietrzne</th>\n",
              "      <th>Tempomat aktywny</th>\n",
              "      <th>Dach panoramiczny</th>\n",
              "      <th>Ogranicznik prędkości</th>\n",
              "      <th>Czujnik martwego pola</th>\n",
              "      <th>HUD (wyświetlacz przezierny)</th>\n",
              "      <th>Podgrzewane tylne siedzenia</th>\n",
              "      <th>Odtwarzacz DVD</th>\n",
              "      <th>Ogrzewanie postojowe</th>\n",
              "      <th>Radio niefabryczne</th>\n",
              "      <th>Światła Xenonowe</th>\n",
              "      <th>Hak</th>\n",
              "      <th>Klimatyzacja czterostrefowa</th>\n",
              "      <th>Zmieniarka CD</th>\n",
              "      <th>Tuner TV</th>\n",
              "      <th>Predict_average_price</th>\n",
              "      <th>latitude</th>\n",
              "      <th>longitude</th>\n",
              "      <th>private-seller</th>\n",
              "      <th>distance</th>\n",
              "      <th>engine-capacity</th>\n",
              "      <th>Petrol</th>\n",
              "      <th>Diesel</th>\n",
              "      <th>engine-output</th>\n",
              "      <th>automatic-transmission</th>\n",
              "      <th>number-of-seats</th>\n",
              "      <th>color</th>\n",
              "      <th>funding-available</th>\n",
              "      <th>Invoice-for-car</th>\n",
              "      <th>Bought-as-new-in-Poland</th>\n",
              "      <th>Registered_in_Poland</th>\n",
              "      <th>Never crashed</th>\n",
              "      <th>From-first-owner</th>\n",
              "      <th>Serviced in authorized service center</th>\n",
              "    </tr>\n",
              "  </thead>\n",
              "  <tbody>\n",
              "    <tr>\n",
              "      <th>6</th>\n",
              "      <td>6</td>\n",
              "      <td>15900</td>\n",
              "      <td>Volkswagen</td>\n",
              "      <td>Golf</td>\n",
              "      <td>V</td>\n",
              "      <td>2008</td>\n",
              "      <td>NaN</td>\n",
              "      <td>NaN</td>\n",
              "      <td>NaN</td>\n",
              "      <td>Kompakt</td>\n",
              "      <td>NaN</td>\n",
              "      <td>NaN</td>\n",
              "      <td>NaN</td>\n",
              "      <td>NaN</td>\n",
              "      <td>NaN</td>\n",
              "      <td>NaN</td>\n",
              "      <td>NaN</td>\n",
              "      <td>NaN</td>\n",
              "      <td>NaN</td>\n",
              "      <td>NaN</td>\n",
              "      <td>NaN</td>\n",
              "      <td>NaN</td>\n",
              "      <td>NaN</td>\n",
              "      <td>NaN</td>\n",
              "      <td>NaN</td>\n",
              "      <td>NaN</td>\n",
              "      <td>NaN</td>\n",
              "      <td>NaN</td>\n",
              "      <td>NaN</td>\n",
              "      <td>NaN</td>\n",
              "      <td>NaN</td>\n",
              "      <td>NaN</td>\n",
              "      <td>NaN</td>\n",
              "      <td>NaN</td>\n",
              "      <td>NaN</td>\n",
              "      <td>NaN</td>\n",
              "      <td>NaN</td>\n",
              "      <td>NaN</td>\n",
              "      <td>NaN</td>\n",
              "      <td>NaN</td>\n",
              "      <td>...</td>\n",
              "      <td>NaN</td>\n",
              "      <td>NaN</td>\n",
              "      <td>NaN</td>\n",
              "      <td>NaN</td>\n",
              "      <td>NaN</td>\n",
              "      <td>NaN</td>\n",
              "      <td>NaN</td>\n",
              "      <td>NaN</td>\n",
              "      <td>NaN</td>\n",
              "      <td>NaN</td>\n",
              "      <td>NaN</td>\n",
              "      <td>NaN</td>\n",
              "      <td>NaN</td>\n",
              "      <td>NaN</td>\n",
              "      <td>NaN</td>\n",
              "      <td>NaN</td>\n",
              "      <td>NaN</td>\n",
              "      <td>NaN</td>\n",
              "      <td>NaN</td>\n",
              "      <td>NaN</td>\n",
              "      <td>NaN</td>\n",
              "      <td>0</td>\n",
              "      <td>52.215933</td>\n",
              "      <td>19.134422</td>\n",
              "      <td>1</td>\n",
              "      <td>200000</td>\n",
              "      <td>1390</td>\n",
              "      <td>1</td>\n",
              "      <td>0</td>\n",
              "      <td>140</td>\n",
              "      <td>0</td>\n",
              "      <td>5</td>\n",
              "      <td>Black</td>\n",
              "      <td>1</td>\n",
              "      <td>0</td>\n",
              "      <td>1</td>\n",
              "      <td>1</td>\n",
              "      <td>1</td>\n",
              "      <td>0</td>\n",
              "      <td>0</td>\n",
              "    </tr>\n",
              "  </tbody>\n",
              "</table>\n",
              "<p>1 rows × 105 columns</p>\n",
              "</div>"
            ],
            "text/plain": [
              "   Unnamed: 0  Price  ... From-first-owner Serviced in authorized service center\n",
              "6           6  15900  ...                0                                     0\n",
              "\n",
              "[1 rows x 105 columns]"
            ]
          },
          "metadata": {
            "tags": []
          },
          "execution_count": 168
        }
      ]
    },
    {
      "cell_type": "markdown",
      "metadata": {
        "id": "URj_UnWWYwk5"
      },
      "source": [
        "Convert column Vat marża to VAT margin:"
      ]
    },
    {
      "cell_type": "code",
      "metadata": {
        "colab": {
          "base_uri": "https://localhost:8080/",
          "height": 193
        },
        "id": "mJ012sGCbFyb",
        "outputId": "44b00df7-2f1b-4778-9372-f6a9742dc8e5"
      },
      "source": [
        "clear_df = clear_df.rename(columns={\"VAT marża\": \"VAT margin\"})\r\n",
        "clear_df.head(1)"
      ],
      "execution_count": 169,
      "outputs": [
        {
          "output_type": "execute_result",
          "data": {
            "text/html": [
              "<div>\n",
              "<style scoped>\n",
              "    .dataframe tbody tr th:only-of-type {\n",
              "        vertical-align: middle;\n",
              "    }\n",
              "\n",
              "    .dataframe tbody tr th {\n",
              "        vertical-align: top;\n",
              "    }\n",
              "\n",
              "    .dataframe thead th {\n",
              "        text-align: right;\n",
              "    }\n",
              "</style>\n",
              "<table border=\"1\" class=\"dataframe\">\n",
              "  <thead>\n",
              "    <tr style=\"text-align: right;\">\n",
              "      <th></th>\n",
              "      <th>Unnamed: 0</th>\n",
              "      <th>Price</th>\n",
              "      <th>Brand</th>\n",
              "      <th>Model</th>\n",
              "      <th>Generation</th>\n",
              "      <th>Rok produkcji</th>\n",
              "      <th>VAT margin</th>\n",
              "      <th>Numer rejestracyjny pojazdu</th>\n",
              "      <th>Wersja</th>\n",
              "      <th>Typ</th>\n",
              "      <th>Metalik</th>\n",
              "      <th>Leasing</th>\n",
              "      <th>Napęd</th>\n",
              "      <th>Okres gwarancji producenta</th>\n",
              "      <th>lub do (przebieg km)</th>\n",
              "      <th>Perłowy</th>\n",
              "      <th>ABS</th>\n",
              "      <th>Elektryczne szyby przednie</th>\n",
              "      <th>Poduszka powietrzna kierowcy</th>\n",
              "      <th>Wspomaganie kierownicy</th>\n",
              "      <th>ASR (kontrola trakcji)</th>\n",
              "      <th>Elektryczne szyby tylne</th>\n",
              "      <th>Gniazdo USB</th>\n",
              "      <th>Klimatyzacja dwustrefowa</th>\n",
              "      <th>MP3</th>\n",
              "      <th>Poduszka powietrzna chroniąca kolana</th>\n",
              "      <th>Relingi dachowe</th>\n",
              "      <th>Światła LED</th>\n",
              "      <th>Tempomat</th>\n",
              "      <th>Klimatyzacja manualna</th>\n",
              "      <th>Tapicerka welurowa</th>\n",
              "      <th>Centralny zamek</th>\n",
              "      <th>Komputer pokładowy</th>\n",
              "      <th>Szyberdach</th>\n",
              "      <th>Wielofunkcyjna kierownica</th>\n",
              "      <th>Isofix</th>\n",
              "      <th>ESP (stabilizacja toru jazdy)</th>\n",
              "      <th>Poduszka powietrzna pasażera</th>\n",
              "      <th>Łopatki zmiany biegów</th>\n",
              "      <th>Radio fabryczne</th>\n",
              "      <th>...</th>\n",
              "      <th>Elektrochromatyczne lusterka boczne</th>\n",
              "      <th>Podgrzewana przednia szyba</th>\n",
              "      <th>Przyciemniane szyby</th>\n",
              "      <th>Tapicerka skórzana</th>\n",
              "      <th>Elektrycznie ustawiane fotele</th>\n",
              "      <th>Regulowane zawieszenie</th>\n",
              "      <th>Kurtyny powietrzne</th>\n",
              "      <th>Tempomat aktywny</th>\n",
              "      <th>Dach panoramiczny</th>\n",
              "      <th>Ogranicznik prędkości</th>\n",
              "      <th>Czujnik martwego pola</th>\n",
              "      <th>HUD (wyświetlacz przezierny)</th>\n",
              "      <th>Podgrzewane tylne siedzenia</th>\n",
              "      <th>Odtwarzacz DVD</th>\n",
              "      <th>Ogrzewanie postojowe</th>\n",
              "      <th>Radio niefabryczne</th>\n",
              "      <th>Światła Xenonowe</th>\n",
              "      <th>Hak</th>\n",
              "      <th>Klimatyzacja czterostrefowa</th>\n",
              "      <th>Zmieniarka CD</th>\n",
              "      <th>Tuner TV</th>\n",
              "      <th>Predict_average_price</th>\n",
              "      <th>latitude</th>\n",
              "      <th>longitude</th>\n",
              "      <th>private-seller</th>\n",
              "      <th>distance</th>\n",
              "      <th>engine-capacity</th>\n",
              "      <th>Petrol</th>\n",
              "      <th>Diesel</th>\n",
              "      <th>engine-output</th>\n",
              "      <th>automatic-transmission</th>\n",
              "      <th>number-of-seats</th>\n",
              "      <th>color</th>\n",
              "      <th>funding-available</th>\n",
              "      <th>Invoice-for-car</th>\n",
              "      <th>Bought-as-new-in-Poland</th>\n",
              "      <th>Registered_in_Poland</th>\n",
              "      <th>Never crashed</th>\n",
              "      <th>From-first-owner</th>\n",
              "      <th>Serviced in authorized service center</th>\n",
              "    </tr>\n",
              "  </thead>\n",
              "  <tbody>\n",
              "    <tr>\n",
              "      <th>6</th>\n",
              "      <td>6</td>\n",
              "      <td>15900</td>\n",
              "      <td>Volkswagen</td>\n",
              "      <td>Golf</td>\n",
              "      <td>V</td>\n",
              "      <td>2008</td>\n",
              "      <td>NaN</td>\n",
              "      <td>NaN</td>\n",
              "      <td>NaN</td>\n",
              "      <td>Kompakt</td>\n",
              "      <td>NaN</td>\n",
              "      <td>NaN</td>\n",
              "      <td>NaN</td>\n",
              "      <td>NaN</td>\n",
              "      <td>NaN</td>\n",
              "      <td>NaN</td>\n",
              "      <td>NaN</td>\n",
              "      <td>NaN</td>\n",
              "      <td>NaN</td>\n",
              "      <td>NaN</td>\n",
              "      <td>NaN</td>\n",
              "      <td>NaN</td>\n",
              "      <td>NaN</td>\n",
              "      <td>NaN</td>\n",
              "      <td>NaN</td>\n",
              "      <td>NaN</td>\n",
              "      <td>NaN</td>\n",
              "      <td>NaN</td>\n",
              "      <td>NaN</td>\n",
              "      <td>NaN</td>\n",
              "      <td>NaN</td>\n",
              "      <td>NaN</td>\n",
              "      <td>NaN</td>\n",
              "      <td>NaN</td>\n",
              "      <td>NaN</td>\n",
              "      <td>NaN</td>\n",
              "      <td>NaN</td>\n",
              "      <td>NaN</td>\n",
              "      <td>NaN</td>\n",
              "      <td>NaN</td>\n",
              "      <td>...</td>\n",
              "      <td>NaN</td>\n",
              "      <td>NaN</td>\n",
              "      <td>NaN</td>\n",
              "      <td>NaN</td>\n",
              "      <td>NaN</td>\n",
              "      <td>NaN</td>\n",
              "      <td>NaN</td>\n",
              "      <td>NaN</td>\n",
              "      <td>NaN</td>\n",
              "      <td>NaN</td>\n",
              "      <td>NaN</td>\n",
              "      <td>NaN</td>\n",
              "      <td>NaN</td>\n",
              "      <td>NaN</td>\n",
              "      <td>NaN</td>\n",
              "      <td>NaN</td>\n",
              "      <td>NaN</td>\n",
              "      <td>NaN</td>\n",
              "      <td>NaN</td>\n",
              "      <td>NaN</td>\n",
              "      <td>NaN</td>\n",
              "      <td>0</td>\n",
              "      <td>52.215933</td>\n",
              "      <td>19.134422</td>\n",
              "      <td>1</td>\n",
              "      <td>200000</td>\n",
              "      <td>1390</td>\n",
              "      <td>1</td>\n",
              "      <td>0</td>\n",
              "      <td>140</td>\n",
              "      <td>0</td>\n",
              "      <td>5</td>\n",
              "      <td>Black</td>\n",
              "      <td>1</td>\n",
              "      <td>0</td>\n",
              "      <td>1</td>\n",
              "      <td>1</td>\n",
              "      <td>1</td>\n",
              "      <td>0</td>\n",
              "      <td>0</td>\n",
              "    </tr>\n",
              "  </tbody>\n",
              "</table>\n",
              "<p>1 rows × 105 columns</p>\n",
              "</div>"
            ],
            "text/plain": [
              "   Unnamed: 0  Price  ... From-first-owner Serviced in authorized service center\n",
              "6           6  15900  ...                0                                     0\n",
              "\n",
              "[1 rows x 105 columns]"
            ]
          },
          "metadata": {
            "tags": []
          },
          "execution_count": 169
        }
      ]
    },
    {
      "cell_type": "code",
      "metadata": {
        "colab": {
          "base_uri": "https://localhost:8080/"
        },
        "id": "Gmq0olOFMeYT",
        "outputId": "38cb98d5-6545-4906-f25f-633b1b1f7e9e"
      },
      "source": [
        "clear_df['VAT margin'].value_counts(dropna = False)"
      ],
      "execution_count": 170,
      "outputs": [
        {
          "output_type": "execute_result",
          "data": {
            "text/plain": [
              "NaN    2147\n",
              "Tak    1188\n",
              "Name: VAT margin, dtype: int64"
            ]
          },
          "metadata": {
            "tags": []
          },
          "execution_count": 170
        }
      ]
    },
    {
      "cell_type": "code",
      "metadata": {
        "colab": {
          "base_uri": "https://localhost:8080/"
        },
        "id": "LOCzMi2nbUKh",
        "outputId": "10d17bce-a37d-4aa0-e58e-0de589b32333"
      },
      "source": [
        "clear_df['VAT margin'] = clear_df['VAT margin'].apply(lambda x: 1 if x == \"Tak\" else 0)\r\n",
        "clear_df['VAT margin'].value_counts(dropna = False)"
      ],
      "execution_count": 171,
      "outputs": [
        {
          "output_type": "execute_result",
          "data": {
            "text/plain": [
              "0    2147\n",
              "1    1188\n",
              "Name: VAT margin, dtype: int64"
            ]
          },
          "metadata": {
            "tags": []
          },
          "execution_count": 171
        }
      ]
    },
    {
      "cell_type": "markdown",
      "metadata": {
        "id": "gvdF1FaMbj8u"
      },
      "source": [
        "Transform column production year:"
      ]
    },
    {
      "cell_type": "code",
      "metadata": {
        "colab": {
          "base_uri": "https://localhost:8080/"
        },
        "id": "Iz1HdjJ_boLA",
        "outputId": "93412378-b2e4-4d51-cebf-677f4dfc6145"
      },
      "source": [
        "clear_df = clear_df.rename(columns={\"Rok produkcji\": \"Year-of-production\"})\r\n",
        "clear_df['Year-of-production'].value_counts(dropna = False)"
      ],
      "execution_count": 172,
      "outputs": [
        {
          "output_type": "execute_result",
          "data": {
            "text/plain": [
              "2009    303\n",
              "2016    234\n",
              "2010    234\n",
              "2017    211\n",
              "2008    201\n",
              "2015    196\n",
              "2011    192\n",
              "2007    176\n",
              "2018    162\n",
              "2013    149\n",
              "2014    148\n",
              "2004    137\n",
              "2005    132\n",
              "2019    127\n",
              "2006    123\n",
              "2012    123\n",
              "2003     80\n",
              "2000     69\n",
              "1999     68\n",
              "2001     68\n",
              "2002     65\n",
              "1998     41\n",
              "2020     25\n",
              "1991     13\n",
              "1997      9\n",
              "1996      9\n",
              "1990      9\n",
              "1995      7\n",
              "1989      4\n",
              "1994      4\n",
              "1986      4\n",
              "1993      2\n",
              "1992      2\n",
              "1988      2\n",
              "1984      2\n",
              "1979      1\n",
              "1985      1\n",
              "1987      1\n",
              "1980      1\n",
              "Name: Year-of-production, dtype: int64"
            ]
          },
          "metadata": {
            "tags": []
          },
          "execution_count": 172
        }
      ]
    },
    {
      "cell_type": "markdown",
      "metadata": {
        "id": "cc9xhjdocI5f"
      },
      "source": [
        "Drop column Numer rejestracyjny pojazdu:\r\n"
      ]
    },
    {
      "cell_type": "code",
      "metadata": {
        "id": "gKfDNyFjcMW7"
      },
      "source": [
        "clear_df = clear_df.drop(columns = ['Numer rejestracyjny pojazdu'])"
      ],
      "execution_count": 173,
      "outputs": []
    },
    {
      "cell_type": "markdown",
      "metadata": {
        "id": "V05U42OrcUMn"
      },
      "source": [
        "Drop column Wersja:"
      ]
    },
    {
      "cell_type": "code",
      "metadata": {
        "id": "oozJLCihcYEz"
      },
      "source": [
        "clear_df = clear_df.drop(columns = ['Wersja'])"
      ],
      "execution_count": 174,
      "outputs": []
    },
    {
      "cell_type": "markdown",
      "metadata": {
        "id": "7SCCZXGFc0cs"
      },
      "source": [
        "Delete column Typ\r\n",
        "because > 50% Null:\r\n"
      ]
    },
    {
      "cell_type": "code",
      "metadata": {
        "id": "K_sKw_Vlc3Uv"
      },
      "source": [
        "clear_df = clear_df.drop(columns = ['Typ'])"
      ],
      "execution_count": 175,
      "outputs": []
    },
    {
      "cell_type": "markdown",
      "metadata": {
        "id": "yY8D6238d2lL"
      },
      "source": [
        "Transform column Metalic what mean metalic type of paiting to 1 if Yes to 0 if No:"
      ]
    },
    {
      "cell_type": "code",
      "metadata": {
        "colab": {
          "base_uri": "https://localhost:8080/"
        },
        "id": "l8X7w-UMdefc",
        "outputId": "e8abd4d5-6606-4c7c-e1cb-551736fd5ef9"
      },
      "source": [
        "clear_df = clear_df.rename(columns={\"Metalik\": \"Metalic\"})\r\n",
        "clear_df['Metalic'].value_counts(dropna = False)"
      ],
      "execution_count": 176,
      "outputs": [
        {
          "output_type": "execute_result",
          "data": {
            "text/plain": [
              "Tak    2221\n",
              "NaN    1114\n",
              "Name: Metalic, dtype: int64"
            ]
          },
          "metadata": {
            "tags": []
          },
          "execution_count": 176
        }
      ]
    },
    {
      "cell_type": "code",
      "metadata": {
        "colab": {
          "base_uri": "https://localhost:8080/"
        },
        "id": "qrEwLbGReOO5",
        "outputId": "4a0fdf3e-759b-4f03-9c27-42f9ba91bddc"
      },
      "source": [
        "clear_df['Metalic'] = clear_df['Metalic'].apply(lambda x: 1 if x=='Tak' else 0)\r\n",
        "clear_df['Metalic'].value_counts(dropna = False)"
      ],
      "execution_count": 177,
      "outputs": [
        {
          "output_type": "execute_result",
          "data": {
            "text/plain": [
              "1    2221\n",
              "0    1114\n",
              "Name: Metalic, dtype: int64"
            ]
          },
          "metadata": {
            "tags": []
          },
          "execution_count": 177
        }
      ]
    },
    {
      "cell_type": "markdown",
      "metadata": {
        "id": "7NzBLMSlecaa"
      },
      "source": [
        "Transform column Leasing:\r\n",
        "1. Change values to 1 if leasing is possible\r\n",
        "2. Change values to 0 if leasing is not possible or unknow"
      ]
    },
    {
      "cell_type": "code",
      "metadata": {
        "colab": {
          "base_uri": "https://localhost:8080/"
        },
        "id": "lmQPLSxoevKH",
        "outputId": "6739e6ce-0bb5-4ce5-a466-4845caf100cb"
      },
      "source": [
        "clear_df['Leasing'].value_counts(dropna = False)"
      ],
      "execution_count": 178,
      "outputs": [
        {
          "output_type": "execute_result",
          "data": {
            "text/plain": [
              "NaN    3024\n",
              "Tak     311\n",
              "Name: Leasing, dtype: int64"
            ]
          },
          "metadata": {
            "tags": []
          },
          "execution_count": 178
        }
      ]
    },
    {
      "cell_type": "code",
      "metadata": {
        "colab": {
          "base_uri": "https://localhost:8080/"
        },
        "id": "n0yWbhIve3o1",
        "outputId": "650400c9-4fc3-443f-932f-cc1e862b2f5a"
      },
      "source": [
        "clear_df['Leasing'] = clear_df['Leasing'].apply(lambda x: 1 if x=='Tak' else 0)\r\n",
        "clear_df['Leasing'].value_counts(dropna = False)"
      ],
      "execution_count": 179,
      "outputs": [
        {
          "output_type": "execute_result",
          "data": {
            "text/plain": [
              "0    3024\n",
              "1     311\n",
              "Name: Leasing, dtype: int64"
            ]
          },
          "metadata": {
            "tags": []
          },
          "execution_count": 179
        }
      ]
    },
    {
      "cell_type": "markdown",
      "metadata": {
        "id": "0Ys4sL1Be8bI"
      },
      "source": [
        "Transform column Napęd:\r\n",
        "1. Change column name to All_wheel_drive"
      ]
    },
    {
      "cell_type": "code",
      "metadata": {
        "colab": {
          "base_uri": "https://localhost:8080/"
        },
        "id": "B3k95SrMfBUn",
        "outputId": "33a93859-a259-4856-b62f-0ed5a5666361"
      },
      "source": [
        "clear_df = clear_df.rename(columns={\"Napęd\": \"All_wheel_drive\"})\r\n",
        "clear_df['All_wheel_drive'] = clear_df['All_wheel_drive'].apply(lambda x: 1 if x=='4x4 (dołączany automatycznie)' or  x == '4x4 (stały)' else 0)\r\n",
        "clear_df['All_wheel_drive'].value_counts(dropna = False)"
      ],
      "execution_count": 180,
      "outputs": [
        {
          "output_type": "execute_result",
          "data": {
            "text/plain": [
              "0    3306\n",
              "1      29\n",
              "Name: All_wheel_drive, dtype: int64"
            ]
          },
          "metadata": {
            "tags": []
          },
          "execution_count": 180
        }
      ]
    },
    {
      "cell_type": "markdown",
      "metadata": {
        "id": "y4pXDSB0gRGB"
      },
      "source": [
        "Drop column Okres gwarancji producenta:\r\n"
      ]
    },
    {
      "cell_type": "code",
      "metadata": {
        "colab": {
          "base_uri": "https://localhost:8080/",
          "height": 303
        },
        "id": "5-iC6kB7gGJK",
        "outputId": "ade02bbf-2450-4f03-83ce-cc1473a84949"
      },
      "source": [
        "clear_df = clear_df.drop(columns=[\"Okres gwarancji producenta\"])"
      ],
      "execution_count": 190,
      "outputs": [
        {
          "output_type": "error",
          "ename": "KeyError",
          "evalue": "ignored",
          "traceback": [
            "\u001b[0;31m---------------------------------------------------------------------------\u001b[0m",
            "\u001b[0;31mKeyError\u001b[0m                                  Traceback (most recent call last)",
            "\u001b[0;32m<ipython-input-190-d17e18753484>\u001b[0m in \u001b[0;36m<module>\u001b[0;34m()\u001b[0m\n\u001b[0;32m----> 1\u001b[0;31m \u001b[0mclear_df\u001b[0m \u001b[0;34m=\u001b[0m \u001b[0mclear_df\u001b[0m\u001b[0;34m.\u001b[0m\u001b[0mdrop\u001b[0m\u001b[0;34m(\u001b[0m\u001b[0mcolumns\u001b[0m\u001b[0;34m=\u001b[0m\u001b[0;34m[\u001b[0m\u001b[0;34m\"Okres gwarancji producenta\"\u001b[0m\u001b[0;34m]\u001b[0m\u001b[0;34m)\u001b[0m\u001b[0;34m\u001b[0m\u001b[0;34m\u001b[0m\u001b[0m\n\u001b[0m",
            "\u001b[0;32m/usr/local/lib/python3.7/dist-packages/pandas/core/frame.py\u001b[0m in \u001b[0;36mdrop\u001b[0;34m(self, labels, axis, index, columns, level, inplace, errors)\u001b[0m\n\u001b[1;32m   4172\u001b[0m             \u001b[0mlevel\u001b[0m\u001b[0;34m=\u001b[0m\u001b[0mlevel\u001b[0m\u001b[0;34m,\u001b[0m\u001b[0;34m\u001b[0m\u001b[0;34m\u001b[0m\u001b[0m\n\u001b[1;32m   4173\u001b[0m             \u001b[0minplace\u001b[0m\u001b[0;34m=\u001b[0m\u001b[0minplace\u001b[0m\u001b[0;34m,\u001b[0m\u001b[0;34m\u001b[0m\u001b[0;34m\u001b[0m\u001b[0m\n\u001b[0;32m-> 4174\u001b[0;31m             \u001b[0merrors\u001b[0m\u001b[0;34m=\u001b[0m\u001b[0merrors\u001b[0m\u001b[0;34m,\u001b[0m\u001b[0;34m\u001b[0m\u001b[0;34m\u001b[0m\u001b[0m\n\u001b[0m\u001b[1;32m   4175\u001b[0m         )\n\u001b[1;32m   4176\u001b[0m \u001b[0;34m\u001b[0m\u001b[0m\n",
            "\u001b[0;32m/usr/local/lib/python3.7/dist-packages/pandas/core/generic.py\u001b[0m in \u001b[0;36mdrop\u001b[0;34m(self, labels, axis, index, columns, level, inplace, errors)\u001b[0m\n\u001b[1;32m   3887\u001b[0m         \u001b[0;32mfor\u001b[0m \u001b[0maxis\u001b[0m\u001b[0;34m,\u001b[0m \u001b[0mlabels\u001b[0m \u001b[0;32min\u001b[0m \u001b[0maxes\u001b[0m\u001b[0;34m.\u001b[0m\u001b[0mitems\u001b[0m\u001b[0;34m(\u001b[0m\u001b[0;34m)\u001b[0m\u001b[0;34m:\u001b[0m\u001b[0;34m\u001b[0m\u001b[0;34m\u001b[0m\u001b[0m\n\u001b[1;32m   3888\u001b[0m             \u001b[0;32mif\u001b[0m \u001b[0mlabels\u001b[0m \u001b[0;32mis\u001b[0m \u001b[0;32mnot\u001b[0m \u001b[0;32mNone\u001b[0m\u001b[0;34m:\u001b[0m\u001b[0;34m\u001b[0m\u001b[0;34m\u001b[0m\u001b[0m\n\u001b[0;32m-> 3889\u001b[0;31m                 \u001b[0mobj\u001b[0m \u001b[0;34m=\u001b[0m \u001b[0mobj\u001b[0m\u001b[0;34m.\u001b[0m\u001b[0m_drop_axis\u001b[0m\u001b[0;34m(\u001b[0m\u001b[0mlabels\u001b[0m\u001b[0;34m,\u001b[0m \u001b[0maxis\u001b[0m\u001b[0;34m,\u001b[0m \u001b[0mlevel\u001b[0m\u001b[0;34m=\u001b[0m\u001b[0mlevel\u001b[0m\u001b[0;34m,\u001b[0m \u001b[0merrors\u001b[0m\u001b[0;34m=\u001b[0m\u001b[0merrors\u001b[0m\u001b[0;34m)\u001b[0m\u001b[0;34m\u001b[0m\u001b[0;34m\u001b[0m\u001b[0m\n\u001b[0m\u001b[1;32m   3890\u001b[0m \u001b[0;34m\u001b[0m\u001b[0m\n\u001b[1;32m   3891\u001b[0m         \u001b[0;32mif\u001b[0m \u001b[0minplace\u001b[0m\u001b[0;34m:\u001b[0m\u001b[0;34m\u001b[0m\u001b[0;34m\u001b[0m\u001b[0m\n",
            "\u001b[0;32m/usr/local/lib/python3.7/dist-packages/pandas/core/generic.py\u001b[0m in \u001b[0;36m_drop_axis\u001b[0;34m(self, labels, axis, level, errors)\u001b[0m\n\u001b[1;32m   3921\u001b[0m                 \u001b[0mnew_axis\u001b[0m \u001b[0;34m=\u001b[0m \u001b[0maxis\u001b[0m\u001b[0;34m.\u001b[0m\u001b[0mdrop\u001b[0m\u001b[0;34m(\u001b[0m\u001b[0mlabels\u001b[0m\u001b[0;34m,\u001b[0m \u001b[0mlevel\u001b[0m\u001b[0;34m=\u001b[0m\u001b[0mlevel\u001b[0m\u001b[0;34m,\u001b[0m \u001b[0merrors\u001b[0m\u001b[0;34m=\u001b[0m\u001b[0merrors\u001b[0m\u001b[0;34m)\u001b[0m\u001b[0;34m\u001b[0m\u001b[0;34m\u001b[0m\u001b[0m\n\u001b[1;32m   3922\u001b[0m             \u001b[0;32melse\u001b[0m\u001b[0;34m:\u001b[0m\u001b[0;34m\u001b[0m\u001b[0;34m\u001b[0m\u001b[0m\n\u001b[0;32m-> 3923\u001b[0;31m                 \u001b[0mnew_axis\u001b[0m \u001b[0;34m=\u001b[0m \u001b[0maxis\u001b[0m\u001b[0;34m.\u001b[0m\u001b[0mdrop\u001b[0m\u001b[0;34m(\u001b[0m\u001b[0mlabels\u001b[0m\u001b[0;34m,\u001b[0m \u001b[0merrors\u001b[0m\u001b[0;34m=\u001b[0m\u001b[0merrors\u001b[0m\u001b[0;34m)\u001b[0m\u001b[0;34m\u001b[0m\u001b[0;34m\u001b[0m\u001b[0m\n\u001b[0m\u001b[1;32m   3924\u001b[0m             \u001b[0mresult\u001b[0m \u001b[0;34m=\u001b[0m \u001b[0mself\u001b[0m\u001b[0;34m.\u001b[0m\u001b[0mreindex\u001b[0m\u001b[0;34m(\u001b[0m\u001b[0;34m**\u001b[0m\u001b[0;34m{\u001b[0m\u001b[0maxis_name\u001b[0m\u001b[0;34m:\u001b[0m \u001b[0mnew_axis\u001b[0m\u001b[0;34m}\u001b[0m\u001b[0;34m)\u001b[0m\u001b[0;34m\u001b[0m\u001b[0;34m\u001b[0m\u001b[0m\n\u001b[1;32m   3925\u001b[0m \u001b[0;34m\u001b[0m\u001b[0m\n",
            "\u001b[0;32m/usr/local/lib/python3.7/dist-packages/pandas/core/indexes/base.py\u001b[0m in \u001b[0;36mdrop\u001b[0;34m(self, labels, errors)\u001b[0m\n\u001b[1;32m   5285\u001b[0m         \u001b[0;32mif\u001b[0m \u001b[0mmask\u001b[0m\u001b[0;34m.\u001b[0m\u001b[0many\u001b[0m\u001b[0;34m(\u001b[0m\u001b[0;34m)\u001b[0m\u001b[0;34m:\u001b[0m\u001b[0;34m\u001b[0m\u001b[0;34m\u001b[0m\u001b[0m\n\u001b[1;32m   5286\u001b[0m             \u001b[0;32mif\u001b[0m \u001b[0merrors\u001b[0m \u001b[0;34m!=\u001b[0m \u001b[0;34m\"ignore\"\u001b[0m\u001b[0;34m:\u001b[0m\u001b[0;34m\u001b[0m\u001b[0;34m\u001b[0m\u001b[0m\n\u001b[0;32m-> 5287\u001b[0;31m                 \u001b[0;32mraise\u001b[0m \u001b[0mKeyError\u001b[0m\u001b[0;34m(\u001b[0m\u001b[0;34mf\"{labels[mask]} not found in axis\"\u001b[0m\u001b[0;34m)\u001b[0m\u001b[0;34m\u001b[0m\u001b[0;34m\u001b[0m\u001b[0m\n\u001b[0m\u001b[1;32m   5288\u001b[0m             \u001b[0mindexer\u001b[0m \u001b[0;34m=\u001b[0m \u001b[0mindexer\u001b[0m\u001b[0;34m[\u001b[0m\u001b[0;34m~\u001b[0m\u001b[0mmask\u001b[0m\u001b[0;34m]\u001b[0m\u001b[0;34m\u001b[0m\u001b[0;34m\u001b[0m\u001b[0m\n\u001b[1;32m   5289\u001b[0m         \u001b[0;32mreturn\u001b[0m \u001b[0mself\u001b[0m\u001b[0;34m.\u001b[0m\u001b[0mdelete\u001b[0m\u001b[0;34m(\u001b[0m\u001b[0mindexer\u001b[0m\u001b[0;34m)\u001b[0m\u001b[0;34m\u001b[0m\u001b[0;34m\u001b[0m\u001b[0m\n",
            "\u001b[0;31mKeyError\u001b[0m: \"['Okres gwarancji producenta'] not found in axis\""
          ]
        }
      ]
    },
    {
      "cell_type": "markdown",
      "metadata": {
        "id": "ARXMFaBElFCs"
      },
      "source": [
        "Transform column lub do (przebieg km):\r\n",
        "1. If value is different then Nan that mean the car have a warranty\r\n",
        "2. If cars have warranty assign 1 else 0"
      ]
    },
    {
      "cell_type": "code",
      "metadata": {
        "colab": {
          "base_uri": "https://localhost:8080/"
        },
        "id": "GD8dF2InjDyP",
        "outputId": "41a2de58-7243-4460-cafd-213d76484f11"
      },
      "source": [
        "clear_df['lub do (przebieg km)'] = clear_df['lub do (przebieg km)'].fillna(0)\r\n",
        "clear_df['lub do (przebieg km)'] = clear_df['lub do (przebieg km)'].apply(lambda x: 0 if x == 0 else 1)\r\n",
        "clear_df = clear_df.rename(columns={\"lub do (przebieg km)\": \"On_warranty\"})\r\n",
        "clear_df[\"On_warranty\"].value_counts()"
      ],
      "execution_count": 220,
      "outputs": [
        {
          "output_type": "execute_result",
          "data": {
            "text/plain": [
              "0    3276\n",
              "1      59\n",
              "Name: On_warranty, dtype: int64"
            ]
          },
          "metadata": {
            "tags": []
          },
          "execution_count": 220
        }
      ]
    },
    {
      "cell_type": "markdown",
      "metadata": {
        "id": "KStmKow4l1TL"
      },
      "source": [
        "Create list of columns from df where are car features and 1.0 means car have feature and NaN not:\r\n"
      ]
    },
    {
      "cell_type": "code",
      "metadata": {
        "colab": {
          "base_uri": "https://localhost:8080/"
        },
        "id": "bg9BjL5GmK0K",
        "outputId": "db95ff84-f692-45dc-887a-c3d17de4ca29"
      },
      "source": [
        "col_list = clear_df.columns.to_list()[11:-19]\r\n",
        "col_list"
      ],
      "execution_count": 228,
      "outputs": [
        {
          "output_type": "execute_result",
          "data": {
            "text/plain": [
              "['Perłowy',\n",
              " 'ABS',\n",
              " 'Elektryczne szyby przednie',\n",
              " 'Poduszka powietrzna kierowcy',\n",
              " 'Wspomaganie kierownicy',\n",
              " 'ASR (kontrola trakcji)',\n",
              " 'Elektryczne szyby tylne',\n",
              " 'Gniazdo USB',\n",
              " 'Klimatyzacja dwustrefowa',\n",
              " 'MP3',\n",
              " 'Poduszka powietrzna chroniąca kolana',\n",
              " 'Relingi dachowe',\n",
              " 'Światła LED',\n",
              " 'Tempomat',\n",
              " 'Klimatyzacja manualna',\n",
              " 'Tapicerka welurowa',\n",
              " 'Centralny zamek',\n",
              " 'Komputer pokładowy',\n",
              " 'Szyberdach',\n",
              " 'Wielofunkcyjna kierownica',\n",
              " 'Isofix',\n",
              " 'ESP (stabilizacja toru jazdy)',\n",
              " 'Poduszka powietrzna pasażera',\n",
              " 'Łopatki zmiany biegów',\n",
              " 'Radio fabryczne',\n",
              " 'Klimatyzacja automatyczna',\n",
              " 'Poduszki boczne przednie',\n",
              " 'Światła przeciwmgielne',\n",
              " 'Immobilizer',\n",
              " 'Bluetooth',\n",
              " 'Czujniki parkowania przednie',\n",
              " 'Elektrochromatyczne lusterko wsteczne',\n",
              " 'Gniazdo AUX',\n",
              " 'Kamera cofania',\n",
              " 'Podgrzewane lusterka boczne',\n",
              " 'System Start-Stop',\n",
              " 'CD',\n",
              " 'Elektrycznie ustawiane lusterka',\n",
              " 'Alarm',\n",
              " 'Asystent parkowania',\n",
              " 'Czujnik deszczu',\n",
              " 'Czujniki parkowania tylne',\n",
              " 'Gniazdo SD',\n",
              " 'Nawigacja GPS',\n",
              " 'Podgrzewane przednie siedzenia',\n",
              " 'Poduszki boczne tylne',\n",
              " 'Światła do jazdy dziennej',\n",
              " 'Alufelgi',\n",
              " 'Asystent pasa ruchu',\n",
              " 'Czujnik zmierzchu',\n",
              " 'Elektrochromatyczne lusterka boczne',\n",
              " 'Podgrzewana przednia szyba',\n",
              " 'Przyciemniane szyby',\n",
              " 'Tapicerka skórzana',\n",
              " 'Elektrycznie ustawiane fotele',\n",
              " 'Regulowane zawieszenie',\n",
              " 'Kurtyny powietrzne',\n",
              " 'Tempomat aktywny',\n",
              " 'Dach panoramiczny',\n",
              " 'Ogranicznik prędkości',\n",
              " 'Czujnik martwego pola',\n",
              " 'HUD (wyświetlacz przezierny)',\n",
              " 'Podgrzewane tylne siedzenia',\n",
              " 'Odtwarzacz DVD',\n",
              " 'Ogrzewanie postojowe',\n",
              " 'Radio niefabryczne',\n",
              " 'Światła Xenonowe',\n",
              " 'Hak',\n",
              " 'Klimatyzacja czterostrefowa',\n",
              " 'Zmieniarka CD',\n",
              " 'Tuner TV']"
            ]
          },
          "metadata": {
            "tags": []
          },
          "execution_count": 228
        }
      ]
    },
    {
      "cell_type": "code",
      "metadata": {
        "id": "DOwDypF8mt9P"
      },
      "source": [
        "for col_name in col_list:\r\n",
        "    clear_df[col_name] = clear_df[col_name].replace('Tak',1).fillna(0)"
      ],
      "execution_count": 246,
      "outputs": []
    },
    {
      "cell_type": "code",
      "metadata": {
        "id": "BxS0YqHBnaSH"
      },
      "source": [
        "for col_name in col_list:\r\n",
        "    clear_df[col_name] = clear_df[col_name].astype(int)"
      ],
      "execution_count": 248,
      "outputs": []
    },
    {
      "cell_type": "markdown",
      "metadata": {
        "id": "bdiQkC4mo7aI"
      },
      "source": [
        "Translate columns to English:"
      ]
    },
    {
      "cell_type": "code",
      "metadata": {
        "id": "r-5cT9qxo-sF"
      },
      "source": [
        "translated = ['Pearl-paint',\r\n",
        " 'ABS',\r\n",
        " 'Electric front windows',\r\n",
        " 'Driver airbag',\r\n",
        " 'Power steering',\r\n",
        " 'ASR',\r\n",
        " 'Electric rear windows',\r\n",
        " 'USB',\r\n",
        " 'Dual-zone-air-conditioning',\r\n",
        " 'MP3',\r\n",
        " 'Knee-protection-airbag',\r\n",
        " 'Roof-rails',\r\n",
        " 'LED-lights',\r\n",
        " 'Cruise-control',\r\n",
        " 'Manual-air-conditioning',\r\n",
        " 'Velor-upholstery',\r\n",
        " 'Central-lock',\r\n",
        " 'On-board-computer',\r\n",
        " 'Sunroof',\r\n",
        " 'Multifunction-steering-wheel',\r\n",
        " 'Isofix',\r\n",
        " 'ESP',\r\n",
        " 'Passenger-airbag',\r\n",
        " 'Gear-shift-paddles',\r\n",
        " 'Factory-radio',\r\n",
        " 'Automatic-air-conditioning',\r\n",
        " 'Front-side-airbags',\r\n",
        " 'Fog-lights',\r\n",
        " 'Immobilizer',\r\n",
        " 'Bluetooth',\r\n",
        " 'Front-parking-sensors',\r\n",
        " 'Electrochromic-rear-view-mirror',\r\n",
        " 'AUX',\r\n",
        " 'Rear-view-camera',\r\n",
        " 'Heated-door-mirrors',\r\n",
        " 'Start-Stop-system',\r\n",
        " 'CD',\r\n",
        " 'Electrically-adjustable-mirrors',\r\n",
        " 'Alarm',\r\n",
        " 'Parking-assistant',\r\n",
        " 'Rain-sensor',\r\n",
        " 'Rear-parking-sensors',\r\n",
        " 'SD-slot',\r\n",
        " 'GPS-navigation',\r\n",
        " 'Heated-front-seats',\r\n",
        " 'Rear-side-airbags',\r\n",
        " 'Daytime-running-lights',\r\n",
        " 'Alloy-wheels',\r\n",
        " 'Lane-Assistant',\r\n",
        " 'Dusk-sensor',\r\n",
        " 'Electrochromic-side-mirrors',\r\n",
        " 'Heated-windscreen',\r\n",
        " 'Tinted-windows',\r\n",
        " 'Leather-upholstery',\r\n",
        " 'Electrically-adjustable-seats',\r\n",
        " 'Adjustable-suspension',\r\n",
        " 'Air-curtains',\r\n",
        " 'Cruise-control-active',\r\n",
        " 'Panoramic-roof',\r\n",
        " 'Speed-limiter',\r\n",
        " 'Blind-spot-sensor',\r\n",
        " 'HUD',\r\n",
        " 'Heated-rear-seats',\r\n",
        " 'DVD-player',\r\n",
        " 'Parking-heating',\r\n",
        " 'Non-factory-radio',\r\n",
        " 'Xenon-lights',\r\n",
        " 'Hook',\r\n",
        " 'Four-zone-air-conditioning',\r\n",
        " 'CD-changer',\r\n",
        " 'TV-tuner']"
      ],
      "execution_count": 250,
      "outputs": []
    },
    {
      "cell_type": "code",
      "metadata": {
        "id": "C_fkOLYGp85k"
      },
      "source": [
        "clear_df = clear_df.rename(columns=dict(zip(col_list,translated)) )"
      ],
      "execution_count": 264,
      "outputs": []
    },
    {
      "cell_type": "code",
      "metadata": {
        "id": "cFWl72IkMeYT"
      },
      "source": [
        "clear_df = clear_df.drop(columns=['Unnamed: 0'])"
      ],
      "execution_count": null,
      "outputs": []
    },
    {
      "cell_type": "code",
      "metadata": {
        "id": "qyvhYBGVr6fL"
      },
      "source": [
        "clear_df.reset_index(inplace=True,drop= True)"
      ],
      "execution_count": 284,
      "outputs": []
    },
    {
      "cell_type": "markdown",
      "metadata": {
        "id": "LsIiOj1ktpAy"
      },
      "source": [
        "Return information about columns"
      ]
    },
    {
      "cell_type": "code",
      "metadata": {
        "colab": {
          "base_uri": "https://localhost:8080/"
        },
        "id": "y-Q120xKsQXy",
        "outputId": "039fae26-8859-4976-f8fb-c39c95b2c1aa"
      },
      "source": [
        "clear_df.info()"
      ],
      "execution_count": 291,
      "outputs": [
        {
          "output_type": "stream",
          "text": [
            "<class 'pandas.core.frame.DataFrame'>\n",
            "RangeIndex: 3335 entries, 0 to 3334\n",
            "Data columns (total 100 columns):\n",
            " #   Column                                 Non-Null Count  Dtype  \n",
            "---  ------                                 --------------  -----  \n",
            " 0   Price                                  3335 non-null   int64  \n",
            " 1   Brand                                  3335 non-null   object \n",
            " 2   Model                                  3335 non-null   object \n",
            " 3   Generation                             3335 non-null   object \n",
            " 4   Year-of-production                     3335 non-null   int64  \n",
            " 5   VAT margin                             3335 non-null   int64  \n",
            " 6   Metalic                                3335 non-null   int64  \n",
            " 7   Leasing                                3335 non-null   int64  \n",
            " 8   All_wheel_drive                        3335 non-null   int64  \n",
            " 9   On_warranty                            3335 non-null   int64  \n",
            " 10  Pearl-paint                            3335 non-null   int64  \n",
            " 11  ABS                                    3335 non-null   int64  \n",
            " 12  Electric front windows                 3335 non-null   int64  \n",
            " 13  Driver airbag                          3335 non-null   int64  \n",
            " 14  Power steering                         3335 non-null   int64  \n",
            " 15  ASR                                    3335 non-null   int64  \n",
            " 16  Electric rear windows                  3335 non-null   int64  \n",
            " 17  USB                                    3335 non-null   int64  \n",
            " 18  Dual-zone-air-conditioning             3335 non-null   int64  \n",
            " 19  MP3                                    3335 non-null   int64  \n",
            " 20  Knee-protection-airbag                 3335 non-null   int64  \n",
            " 21  Roof-rails                             3335 non-null   int64  \n",
            " 22  LED-lights                             3335 non-null   int64  \n",
            " 23  Cruise-control                         3335 non-null   int64  \n",
            " 24  Manual-air-conditioning                3335 non-null   int64  \n",
            " 25  Velor-upholstery                       3335 non-null   int64  \n",
            " 26  Central-lock                           3335 non-null   int64  \n",
            " 27  On-board-computer                      3335 non-null   int64  \n",
            " 28  Sunroof                                3335 non-null   int64  \n",
            " 29  Multifunction-steering-wheel           3335 non-null   int64  \n",
            " 30  Isofix                                 3335 non-null   int64  \n",
            " 31  ESP                                    3335 non-null   int64  \n",
            " 32  Passenger-airbag                       3335 non-null   int64  \n",
            " 33  Gear-shift-paddles                     3335 non-null   int64  \n",
            " 34  Factory-radio                          3335 non-null   int64  \n",
            " 35  Automatic-air-conditioning             3335 non-null   int64  \n",
            " 36  Front-side-airbags                     3335 non-null   int64  \n",
            " 37  Fog-lights                             3335 non-null   int64  \n",
            " 38  Immobilizer                            3335 non-null   int64  \n",
            " 39  Bluetooth                              3335 non-null   int64  \n",
            " 40  Front-parking-sensors                  3335 non-null   int64  \n",
            " 41  Electrochromic-rear-view-mirror        3335 non-null   int64  \n",
            " 42  AUX                                    3335 non-null   int64  \n",
            " 43  Rear-view-camera                       3335 non-null   int64  \n",
            " 44  Heated-door-mirrors                    3335 non-null   int64  \n",
            " 45  Start-Stop-system                      3335 non-null   int64  \n",
            " 46  CD                                     3335 non-null   int64  \n",
            " 47  Electrically-adjustable-mirrors        3335 non-null   int64  \n",
            " 48  Alarm                                  3335 non-null   int64  \n",
            " 49  Parking-assistant                      3335 non-null   int64  \n",
            " 50  Rain-sensor                            3335 non-null   int64  \n",
            " 51  Rear-parking-sensors                   3335 non-null   int64  \n",
            " 52  SD-slot                                3335 non-null   int64  \n",
            " 53  GPS-navigation                         3335 non-null   int64  \n",
            " 54  Heated-front-seats                     3335 non-null   int64  \n",
            " 55  Rear-side-airbags                      3335 non-null   int64  \n",
            " 56  Daytime-running-lights                 3335 non-null   int64  \n",
            " 57  Alloy-wheels                           3335 non-null   int64  \n",
            " 58  Lane-Assistant                         3335 non-null   int64  \n",
            " 59  Dusk-sensor                            3335 non-null   int64  \n",
            " 60  Electrochromic-side-mirrors            3335 non-null   int64  \n",
            " 61  Heated-windscreen                      3335 non-null   int64  \n",
            " 62  Tinted-windows                         3335 non-null   int64  \n",
            " 63  Leather-upholstery                     3335 non-null   int64  \n",
            " 64  Electrically-adjustable-seats          3335 non-null   int64  \n",
            " 65  Adjustable-suspension                  3335 non-null   int64  \n",
            " 66  Air-curtains                           3335 non-null   int64  \n",
            " 67  Cruise-control-active                  3335 non-null   int64  \n",
            " 68  Panoramic-roof                         3335 non-null   int64  \n",
            " 69  Speed-limiter                          3335 non-null   int64  \n",
            " 70  Blind-spot-sensor                      3335 non-null   int64  \n",
            " 71  HUD                                    3335 non-null   int64  \n",
            " 72  Heated-rear-seats                      3335 non-null   int64  \n",
            " 73  DVD-player                             3335 non-null   int64  \n",
            " 74  Parking-heating                        3335 non-null   int64  \n",
            " 75  Non-factory-radio                      3335 non-null   int64  \n",
            " 76  Xenon-lights                           3335 non-null   int64  \n",
            " 77  Hook                                   3335 non-null   int64  \n",
            " 78  Four-zone-air-conditioning             3335 non-null   int64  \n",
            " 79  CD-changer                             3335 non-null   int64  \n",
            " 80  TV-tuner                               3335 non-null   int64  \n",
            " 81  Predict_average_price                  3335 non-null   int64  \n",
            " 82  latitude                               3335 non-null   float64\n",
            " 83  longitude                              3335 non-null   float64\n",
            " 84  private-seller                         3335 non-null   int64  \n",
            " 85  distance                               3335 non-null   int64  \n",
            " 86  engine-capacity                        3335 non-null   int64  \n",
            " 87  Petrol                                 3335 non-null   int64  \n",
            " 88  Diesel                                 3335 non-null   int64  \n",
            " 89  engine-output                          3335 non-null   int64  \n",
            " 90  automatic-transmission                 3335 non-null   int64  \n",
            " 91  number-of-seats                        3335 non-null   int64  \n",
            " 92  color                                  3335 non-null   object \n",
            " 93  funding-available                      3335 non-null   int64  \n",
            " 94  Invoice-for-car                        3335 non-null   int64  \n",
            " 95  Bought-as-new-in-Poland                3335 non-null   int64  \n",
            " 96  Registered_in_Poland                   3335 non-null   int64  \n",
            " 97  Never crashed                          3335 non-null   int64  \n",
            " 98  From-first-owner                       3335 non-null   int64  \n",
            " 99  Serviced in authorized service center  3335 non-null   int64  \n",
            "dtypes: float64(2), int64(94), object(4)\n",
            "memory usage: 2.5+ MB\n"
          ],
          "name": "stdout"
        }
      ]
    },
    {
      "cell_type": "markdown",
      "metadata": {
        "id": "7ft3peYkt3y8"
      },
      "source": [
        "Drop objects type columns:"
      ]
    },
    {
      "cell_type": "code",
      "metadata": {
        "id": "FEgRySJMt9Hw"
      },
      "source": [
        "ml_df = clear_df.copy()\r\n",
        "ml_df = ml_df.drop(columns= ['color','Brand','Generation','Model'])"
      ],
      "execution_count": 292,
      "outputs": []
    },
    {
      "cell_type": "markdown",
      "metadata": {
        "id": "-bYl6R_Huk8z"
      },
      "source": [
        "Save file to CSV"
      ]
    },
    {
      "cell_type": "code",
      "metadata": {
        "id": "SDGn2XZ5uR4V"
      },
      "source": [
        "ml_df.to_csv('Golf_data_to_ml.csv')"
      ],
      "execution_count": 296,
      "outputs": []
    },
    {
      "cell_type": "markdown",
      "metadata": {
        "id": "8UNn-nVNvQp9"
      },
      "source": [
        "Download the data:"
      ]
    },
    {
      "cell_type": "code",
      "metadata": {
        "colab": {
          "base_uri": "https://localhost:8080/",
          "height": 17
        },
        "id": "k9JIHdbjunWG",
        "outputId": "f4fc3f1e-7158-4ffe-86f4-ee0e6b88246a"
      },
      "source": [
        "from google.colab import files\r\n",
        "files.download(\"Golf_data_to_ml.csv\")"
      ],
      "execution_count": 297,
      "outputs": [
        {
          "output_type": "display_data",
          "data": {
            "application/javascript": [
              "\n",
              "    async function download(id, filename, size) {\n",
              "      if (!google.colab.kernel.accessAllowed) {\n",
              "        return;\n",
              "      }\n",
              "      const div = document.createElement('div');\n",
              "      const label = document.createElement('label');\n",
              "      label.textContent = `Downloading \"${filename}\": `;\n",
              "      div.appendChild(label);\n",
              "      const progress = document.createElement('progress');\n",
              "      progress.max = size;\n",
              "      div.appendChild(progress);\n",
              "      document.body.appendChild(div);\n",
              "\n",
              "      const buffers = [];\n",
              "      let downloaded = 0;\n",
              "\n",
              "      const channel = await google.colab.kernel.comms.open(id);\n",
              "      // Send a message to notify the kernel that we're ready.\n",
              "      channel.send({})\n",
              "\n",
              "      for await (const message of channel.messages) {\n",
              "        // Send a message to notify the kernel that we're ready.\n",
              "        channel.send({})\n",
              "        if (message.buffers) {\n",
              "          for (const buffer of message.buffers) {\n",
              "            buffers.push(buffer);\n",
              "            downloaded += buffer.byteLength;\n",
              "            progress.value = downloaded;\n",
              "          }\n",
              "        }\n",
              "      }\n",
              "      const blob = new Blob(buffers, {type: 'application/binary'});\n",
              "      const a = document.createElement('a');\n",
              "      a.href = window.URL.createObjectURL(blob);\n",
              "      a.download = filename;\n",
              "      div.appendChild(a);\n",
              "      a.click();\n",
              "      div.remove();\n",
              "    }\n",
              "  "
            ],
            "text/plain": [
              "<IPython.core.display.Javascript object>"
            ]
          },
          "metadata": {
            "tags": []
          }
        },
        {
          "output_type": "display_data",
          "data": {
            "application/javascript": [
              "download(\"download_0bb93a35-0047-4e49-aacd-d68b0deb1cdc\", \"Golf_data_to_ml.csv\", 789606)"
            ],
            "text/plain": [
              "<IPython.core.display.Javascript object>"
            ]
          },
          "metadata": {
            "tags": []
          }
        }
      ]
    },
    {
      "cell_type": "markdown",
      "metadata": {
        "id": "G7wfxHfIvg53"
      },
      "source": [
        "Save cleared golf data to csv and download it:"
      ]
    },
    {
      "cell_type": "code",
      "metadata": {
        "colab": {
          "base_uri": "https://localhost:8080/",
          "height": 17
        },
        "id": "YUmV01ikvZEk",
        "outputId": "f7c42f58-e2e0-4fb3-8e20-0542ec733d17"
      },
      "source": [
        "clear_df.to_csv('Golf_data_clear.csv')\r\n",
        "from google.colab import files\r\n",
        "files.download(\"Golf_data_clear.csv\")"
      ],
      "execution_count": 299,
      "outputs": [
        {
          "output_type": "display_data",
          "data": {
            "application/javascript": [
              "\n",
              "    async function download(id, filename, size) {\n",
              "      if (!google.colab.kernel.accessAllowed) {\n",
              "        return;\n",
              "      }\n",
              "      const div = document.createElement('div');\n",
              "      const label = document.createElement('label');\n",
              "      label.textContent = `Downloading \"${filename}\": `;\n",
              "      div.appendChild(label);\n",
              "      const progress = document.createElement('progress');\n",
              "      progress.max = size;\n",
              "      div.appendChild(progress);\n",
              "      document.body.appendChild(div);\n",
              "\n",
              "      const buffers = [];\n",
              "      let downloaded = 0;\n",
              "\n",
              "      const channel = await google.colab.kernel.comms.open(id);\n",
              "      // Send a message to notify the kernel that we're ready.\n",
              "      channel.send({})\n",
              "\n",
              "      for await (const message of channel.messages) {\n",
              "        // Send a message to notify the kernel that we're ready.\n",
              "        channel.send({})\n",
              "        if (message.buffers) {\n",
              "          for (const buffer of message.buffers) {\n",
              "            buffers.push(buffer);\n",
              "            downloaded += buffer.byteLength;\n",
              "            progress.value = downloaded;\n",
              "          }\n",
              "        }\n",
              "      }\n",
              "      const blob = new Blob(buffers, {type: 'application/binary'});\n",
              "      const a = document.createElement('a');\n",
              "      a.href = window.URL.createObjectURL(blob);\n",
              "      a.download = filename;\n",
              "      div.appendChild(a);\n",
              "      a.click();\n",
              "      div.remove();\n",
              "    }\n",
              "  "
            ],
            "text/plain": [
              "<IPython.core.display.Javascript object>"
            ]
          },
          "metadata": {
            "tags": []
          }
        },
        {
          "output_type": "display_data",
          "data": {
            "application/javascript": [
              "download(\"download_048d3f2f-3dde-4644-a360-511be3064659\", \"Golf_data_clear.csv\", 874230)"
            ],
            "text/plain": [
              "<IPython.core.display.Javascript object>"
            ]
          },
          "metadata": {
            "tags": []
          }
        }
      ]
    }
  ]
}